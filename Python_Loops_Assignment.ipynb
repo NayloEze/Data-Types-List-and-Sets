{
  "nbformat": 4,
  "nbformat_minor": 0,
  "metadata": {
    "colab": {
      "name": "Python_Loops_Assignment.ipynb",
      "provenance": [],
      "collapsed_sections": [],
      "include_colab_link": true
    },
    "kernelspec": {
      "name": "python3",
      "display_name": "Python 3"
    },
    "language_info": {
      "name": "python"
    }
  },
  "cells": [
    {
      "cell_type": "markdown",
      "metadata": {
        "id": "view-in-github",
        "colab_type": "text"
      },
      "source": [
        "<a href=\"https://colab.research.google.com/github/NayloEze/Data-Types-List-and-Sets/blob/main/Python_Loops_Assignment.ipynb\" target=\"_parent\"><img src=\"https://colab.research.google.com/assets/colab-badge.svg\" alt=\"Open In Colab\"/></a>"
      ]
    },
    {
      "cell_type": "markdown",
      "metadata": {
        "id": "IoQa2eN8bWTA"
      },
      "source": [
        "# 1.\n",
        "\n",
        "A particular zoo determines the price of admission based on the age of the guest.\n",
        "\n",
        "Guests 2 years of age and less are admitted without charge. Children between 3 and 12 years of age cost $14.00.\n",
        "\n",
        "Seniors aged 65 years and over cost $18.00.\n",
        "\n",
        "Admission for all other guests is $23.00.\n",
        "\n",
        "Create a program that begins by reading the ages of all of the guests in a group from the user, with one age entered on each line. The user will enter a blank line to indicate that there are no more guests in the group. Then your program should display the admission cost for the group with an appropriate message.\n",
        "\n",
        "The cost should be displayed using two decimal places."
      ]
    },
    {
      "cell_type": "code",
      "metadata": {
        "colab": {
          "base_uri": "https://localhost:8080/"
        },
        "id": "s7cjbLdyhgYo",
        "outputId": "4d5fc0fa-d7ed-4ba3-cd1e-6d95763086f8"
      },
      "source": [
        "guest = []\n",
        "\n",
        "while len(guest) < 120:\n",
        "   age = int(input(\"Enter age of guest: \"))\n",
        "   guest.append(age)\n",
        "   print(guest)\n",
        "   if age > 0 and age <= 2:\n",
        "     print(\"$ 0.00\")\n",
        "   elif age >= 3 and age <= 12:\n",
        "     print(\"$14.00\")\n",
        "   elif age >= 13 and age <= 64:\n",
        "     print(\"$23.00\")\n",
        "   elif age >= 65:\n",
        "     print(\"$18.00\")\n",
        "   elif age == 0:\n",
        "       break\n",
        "   else: \n",
        "       print(\"No admission\")\n",
        "\n"
      ],
      "execution_count": 2,
      "outputs": [
        {
          "output_type": "stream",
          "name": "stdout",
          "text": [
            "Enter age of guest: 5\n",
            "[5]\n",
            "$14.00\n",
            "Enter age of guest: 4\n",
            "[5, 4]\n",
            "$14.00\n",
            "Enter age of guest: 76\n",
            "[5, 4, 76]\n",
            "$18.00\n",
            "Enter age of guest: 54\n",
            "[5, 4, 76, 54]\n",
            "$23.00\n",
            "Enter age of guest: 0\n",
            "[5, 4, 76, 54, 0]\n"
          ]
        }
      ]
    },
    {
      "cell_type": "markdown",
      "metadata": {
        "id": "93BM6vNHb6tx"
      },
      "source": [
        "# 2.\n",
        "\n",
        "A particular retailer is having a 60 percent off sale on a variety of discontinued products. \n",
        "\n",
        "The retailer would like to help its customers determine the reduced price of the merchandise by having a printed discount table on the shelf that shows the original prices and the prices after the discount has been applied. \n",
        "\n",
        "Write a program that uses a loop to generate this table, showing the original price, the discount amount, and the new price for purchases of $4.95, $9.95, $14.95, $19.95 and $24.95. \n",
        "\n",
        "Ensure that the discount amounts and the new prices are rounded to 2 decimal places when they are displayed.\n"
      ]
    },
    {
      "cell_type": "code",
      "metadata": {
        "colab": {
          "base_uri": "https://localhost:8080/"
        },
        "id": "CuIFYFVmZuBs",
        "outputId": "60f292d4-2e06-4e22-d02b-67c54fee883c"
      },
      "source": [
        "original_prices  = [4.95, 9.95,14.95, 19.95,24.95]\n",
        "\n",
        "print(\"Original Prices\\t\\t\\t\\tDiscount\" \"\\t\\t\\t\\tNew Price\")\n",
        "for i in original_prices:\n",
        " \n",
        " discount = i * 0.60 \n",
        " new_price = i - (i * 0.60)\n",
        "\n",
        " print(\"%.2f\" % (i),\"\\t\\t\\t\\t %.2f\" % ((i / 100) *60 ),\"\\t\\t\\t\\t %.2f\" % (i - ((i / 100) *60)))"
      ],
      "execution_count": 25,
      "outputs": [
        {
          "output_type": "stream",
          "name": "stdout",
          "text": [
            "Original Prices\t\t\t\tDiscount\t\t\t\tNew Price\n",
            "4.95 \t\t\t\t 2.97 \t\t\t\t 1.98\n",
            "9.95 \t\t\t\t 5.97 \t\t\t\t 3.98\n",
            "14.95 \t\t\t\t 8.97 \t\t\t\t 5.98\n",
            "19.95 \t\t\t\t 11.97 \t\t\t\t 7.98\n",
            "24.95 \t\t\t\t 14.97 \t\t\t\t 9.98\n"
          ]
        }
      ]
    },
    {
      "cell_type": "markdown",
      "metadata": {
        "id": "twwmmHWsioYl"
      },
      "source": [
        "## 3.\n",
        "\n",
        "lst=[10, 99, 98, 85, 22, 34, 78, 98, 12, 35, 13, 100, 80, 95]\n",
        "\n",
        "Using while loop, and if statement; iterate through the list and if there is a 100, print it with its index number. i.e.: \n",
        "\n",
        "\"There is a 100 at index no: 4\"\n",
        "\n"
      ]
    },
    {
      "cell_type": "code",
      "metadata": {
        "colab": {
          "base_uri": "https://localhost:8080/"
        },
        "id": "ir5n-eSQAS5z",
        "outputId": "1fff6be9-1668-456d-c794-376c029310f3"
      },
      "source": [
        "lst = [10, 99, 98, 85, 22, 34, 78, 98, 12, 35, 13, 100, 80, 95]\n",
        "\n",
        "x = 0\n",
        "\n",
        "while x < len(lst):\n",
        "  if lst[x] == 100:\n",
        "    print(\"There is a 100 at index no. 4\")\n",
        "  \n",
        "  else: \n",
        "    print (\"Not sure \")\n",
        "  x = x+1 \n",
        "  \n",
        "   \n",
        "  \n"
      ],
      "execution_count": 26,
      "outputs": [
        {
          "output_type": "stream",
          "name": "stdout",
          "text": [
            "Not sure \n",
            "Not sure \n",
            "Not sure \n",
            "Not sure \n",
            "Not sure \n",
            "Not sure \n",
            "Not sure \n",
            "Not sure \n",
            "Not sure \n",
            "Not sure \n",
            "Not sure \n",
            "There is a 100 at index no. 4\n",
            "Not sure \n",
            "Not sure \n"
          ]
        }
      ]
    },
    {
      "cell_type": "markdown",
      "metadata": {
        "id": "PRRHzHgZjBZE"
      },
      "source": [
        "## 4.\n",
        "\n",
        "Write a python program to read three numbers (a,b,c) and check how many numbers between ‘a’ and ‘b’ are divisible by ‘c’"
      ]
    },
    {
      "cell_type": "code",
      "metadata": {
        "colab": {
          "base_uri": "https://localhost:8080/"
        },
        "id": "b5Pteb13_V16",
        "outputId": "32a8aa64-007a-42ea-8e75-7469eb7e7d00"
      },
      "source": [
        " a = 40\n",
        " b = 60\n",
        " c = 5\n",
        "\n",
        " for x in range(a,b):\n",
        "   if x % c == 0:\n",
        "     print(x)\n",
        "   else:\n",
        "    pass "
      ],
      "execution_count": 28,
      "outputs": [
        {
          "output_type": "stream",
          "name": "stdout",
          "text": [
            "40\n",
            "45\n",
            "50\n",
            "55\n"
          ]
        }
      ]
    },
    {
      "cell_type": "markdown",
      "metadata": {
        "id": "aj0eqpwgjmLc"
      },
      "source": [
        "## 5.\n",
        "\n",
        "Create a for loop that prompts the user for a name 3 times, then appends each one to names."
      ]
    },
    {
      "cell_type": "code",
      "metadata": {
        "colab": {
          "base_uri": "https://localhost:8080/"
        },
        "id": "LkEOgCIJBMtp",
        "outputId": "20874096-4992-4a03-dcf7-c42cc6234c59"
      },
      "source": [
        "names = []\n",
        "\n",
        "while len(names) < 3:\n",
        "  user_input = input(\"Enter name: \")\n",
        "  names.append(user_input)\n",
        "  print(names)\n"
      ],
      "execution_count": 29,
      "outputs": [
        {
          "output_type": "stream",
          "name": "stdout",
          "text": [
            "Enter name: Naylo\n",
            "['Naylo']\n",
            "Enter name: Cheta\n",
            "['Naylo', 'Cheta']\n",
            "Enter name: Ucee\n",
            "['Naylo', 'Cheta', 'Ucee']\n"
          ]
        }
      ]
    },
    {
      "cell_type": "markdown",
      "metadata": {
        "id": "owfZVZ6Sksx7"
      },
      "source": [
        "## 6.\n",
        "\n",
        "Use a loop to print out every character in the string \"Python\", except the \"o\""
      ]
    },
    {
      "cell_type": "code",
      "metadata": {
        "colab": {
          "base_uri": "https://localhost:8080/"
        },
        "id": "6mJ-WHSnVSSe",
        "outputId": "d179a449-db26-43f8-c4cd-ea934ff230c8"
      },
      "source": [
        "string_name = (\"Python\")\n",
        "\n",
        "for val in string_name:\n",
        "    if val == \"o\":\n",
        "        continue\n",
        "    print(val)\n",
        "\n"
      ],
      "execution_count": 30,
      "outputs": [
        {
          "output_type": "stream",
          "name": "stdout",
          "text": [
            "P\n",
            "y\n",
            "t\n",
            "h\n",
            "n\n"
          ]
        }
      ]
    },
    {
      "cell_type": "markdown",
      "metadata": {
        "id": "wGqS7DaYk_1F"
      },
      "source": [
        "## 7. \n",
        "\n",
        "Write a program that computes the average of a collection\n",
        "of values entered by the user. \n",
        "\n",
        "The user will enter 0 as a sentinel value to indicate\n",
        "that no further values will be provided. \n",
        "\n",
        "Your program should display an appropriate\n",
        "error message if the first value entered by the user is 0."
      ]
    },
    {
      "cell_type": "code",
      "metadata": {
        "id": "wvJM7sUKlIJs",
        "colab": {
          "base_uri": "https://localhost:8080/"
        },
        "outputId": "362a9880-6f49-4064-daee-0f77290df0ed"
      },
      "source": [
        "sum = 0\n",
        "x = 0\n",
        "data = int(input(\"Insert Number (0 ends the input):  \"))\n",
        "while data != 0:\n",
        "    sum = sum + data\n",
        "    x = x + 1\n",
        "    data = int(input(\"Insert Number (0 ends the input):  \"))\n",
        "average = sum / x\n",
        "print(\"Average:\",average)"
      ],
      "execution_count": 31,
      "outputs": [
        {
          "output_type": "stream",
          "name": "stdout",
          "text": [
            "Insert Number (0 ends the input):  5\n",
            "Insert Number (0 ends the input):  5\n",
            "Insert Number (0 ends the input):  0\n",
            "Average: 5.0\n"
          ]
        }
      ]
    }
  ]
}