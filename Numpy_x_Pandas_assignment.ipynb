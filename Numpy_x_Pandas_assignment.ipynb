{
  "nbformat": 4,
  "nbformat_minor": 0,
  "metadata": {
    "kernelspec": {
      "display_name": "Python 3",
      "language": "python",
      "name": "python3"
    },
    "language_info": {
      "codemirror_mode": {
        "name": "ipython",
        "version": 3
      },
      "file_extension": ".py",
      "mimetype": "text/x-python",
      "name": "python",
      "nbconvert_exporter": "python",
      "pygments_lexer": "ipython3",
      "version": "3.8.5"
    },
    "colab": {
      "name": "Numpy_x_Pandas_assignment.ipynb",
      "provenance": [],
      "include_colab_link": true
    }
  },
  "cells": [
    {
      "cell_type": "markdown",
      "metadata": {
        "id": "view-in-github",
        "colab_type": "text"
      },
      "source": [
        "<a href=\"https://colab.research.google.com/github/NayloEze/Data-Types-List-and-Sets/blob/main/Numpy_x_Pandas_assignment.ipynb\" target=\"_parent\"><img src=\"https://colab.research.google.com/assets/colab-badge.svg\" alt=\"Open In Colab\"/></a>"
      ]
    },
    {
      "cell_type": "code",
      "metadata": {
        "id": "L_DKNF8_KQgd"
      },
      "source": [
        "import numpy as np\n",
        "import pandas as pd"
      ],
      "execution_count": 1,
      "outputs": []
    },
    {
      "cell_type": "markdown",
      "metadata": {
        "id": "F3TRjccJONWB"
      },
      "source": [
        "1. Create a nested list which contains the name, age and race of 10 people each. Turn this list to a dataframe."
      ]
    },
    {
      "cell_type": "code",
      "metadata": {
        "colab": {
          "base_uri": "https://localhost:8080/",
          "height": 358
        },
        "id": "yED2z1lPWTsD",
        "outputId": "5f71239a-cd58-4641-e8e0-3dbe646a4946"
      },
      "source": [
        "#Creating a data frame from a nested list:\n",
        "personal_info = [[\"Esther\",31,\"African\"], [\"Debra\",27,\"European\"] ,[\"Minho\",27,\"Asian\"], [\"Ada\", 29, \"African\"], [\"Ben\",31, \"American\"],\n",
        "                [\"Sizwe\",35, \"African\"], [\"Ethan\",29, \"Australian\"], [\"Kedi\",30,\"African\"], [\"Joong Ki\", 34,\"Asian\"], [\"Suzy\",25, \"American\"]]\n",
        "revised_info = pd.DataFrame(personal_info) \n",
        "revised_info"
      ],
      "execution_count": 2,
      "outputs": [
        {
          "output_type": "execute_result",
          "data": {
            "text/html": [
              "<div>\n",
              "<style scoped>\n",
              "    .dataframe tbody tr th:only-of-type {\n",
              "        vertical-align: middle;\n",
              "    }\n",
              "\n",
              "    .dataframe tbody tr th {\n",
              "        vertical-align: top;\n",
              "    }\n",
              "\n",
              "    .dataframe thead th {\n",
              "        text-align: right;\n",
              "    }\n",
              "</style>\n",
              "<table border=\"1\" class=\"dataframe\">\n",
              "  <thead>\n",
              "    <tr style=\"text-align: right;\">\n",
              "      <th></th>\n",
              "      <th>0</th>\n",
              "      <th>1</th>\n",
              "      <th>2</th>\n",
              "    </tr>\n",
              "  </thead>\n",
              "  <tbody>\n",
              "    <tr>\n",
              "      <th>0</th>\n",
              "      <td>Esther</td>\n",
              "      <td>31</td>\n",
              "      <td>African</td>\n",
              "    </tr>\n",
              "    <tr>\n",
              "      <th>1</th>\n",
              "      <td>Debra</td>\n",
              "      <td>27</td>\n",
              "      <td>European</td>\n",
              "    </tr>\n",
              "    <tr>\n",
              "      <th>2</th>\n",
              "      <td>Minho</td>\n",
              "      <td>27</td>\n",
              "      <td>Asian</td>\n",
              "    </tr>\n",
              "    <tr>\n",
              "      <th>3</th>\n",
              "      <td>Ada</td>\n",
              "      <td>29</td>\n",
              "      <td>African</td>\n",
              "    </tr>\n",
              "    <tr>\n",
              "      <th>4</th>\n",
              "      <td>Ben</td>\n",
              "      <td>31</td>\n",
              "      <td>American</td>\n",
              "    </tr>\n",
              "    <tr>\n",
              "      <th>5</th>\n",
              "      <td>Sizwe</td>\n",
              "      <td>35</td>\n",
              "      <td>African</td>\n",
              "    </tr>\n",
              "    <tr>\n",
              "      <th>6</th>\n",
              "      <td>Ethan</td>\n",
              "      <td>29</td>\n",
              "      <td>Australian</td>\n",
              "    </tr>\n",
              "    <tr>\n",
              "      <th>7</th>\n",
              "      <td>Kedi</td>\n",
              "      <td>30</td>\n",
              "      <td>African</td>\n",
              "    </tr>\n",
              "    <tr>\n",
              "      <th>8</th>\n",
              "      <td>Joong Ki</td>\n",
              "      <td>34</td>\n",
              "      <td>Asian</td>\n",
              "    </tr>\n",
              "    <tr>\n",
              "      <th>9</th>\n",
              "      <td>Suzy</td>\n",
              "      <td>25</td>\n",
              "      <td>American</td>\n",
              "    </tr>\n",
              "  </tbody>\n",
              "</table>\n",
              "</div>"
            ],
            "text/plain": [
              "          0   1           2\n",
              "0    Esther  31     African\n",
              "1     Debra  27    European\n",
              "2     Minho  27       Asian\n",
              "3       Ada  29     African\n",
              "4       Ben  31    American\n",
              "5     Sizwe  35     African\n",
              "6     Ethan  29  Australian\n",
              "7      Kedi  30     African\n",
              "8  Joong Ki  34       Asian\n",
              "9      Suzy  25    American"
            ]
          },
          "metadata": {},
          "execution_count": 2
        }
      ]
    },
    {
      "cell_type": "markdown",
      "metadata": {
        "id": "EwSu_P0NONWF"
      },
      "source": [
        "2. Label the columns with the appropriate column names"
      ]
    },
    {
      "cell_type": "code",
      "metadata": {
        "colab": {
          "base_uri": "https://localhost:8080/",
          "height": 358
        },
        "id": "JgpZZZADeIic",
        "outputId": "3b206381-31ee-47e8-f1a3-460a4a1e790e"
      },
      "source": [
        "#Adding column names to the DataFrame\n",
        "revised_info.columns = [\"Name\",\"Age\",\"Race\"]\n",
        "revised_info"
      ],
      "execution_count": 3,
      "outputs": [
        {
          "output_type": "execute_result",
          "data": {
            "text/html": [
              "<div>\n",
              "<style scoped>\n",
              "    .dataframe tbody tr th:only-of-type {\n",
              "        vertical-align: middle;\n",
              "    }\n",
              "\n",
              "    .dataframe tbody tr th {\n",
              "        vertical-align: top;\n",
              "    }\n",
              "\n",
              "    .dataframe thead th {\n",
              "        text-align: right;\n",
              "    }\n",
              "</style>\n",
              "<table border=\"1\" class=\"dataframe\">\n",
              "  <thead>\n",
              "    <tr style=\"text-align: right;\">\n",
              "      <th></th>\n",
              "      <th>Name</th>\n",
              "      <th>Age</th>\n",
              "      <th>Race</th>\n",
              "    </tr>\n",
              "  </thead>\n",
              "  <tbody>\n",
              "    <tr>\n",
              "      <th>0</th>\n",
              "      <td>Esther</td>\n",
              "      <td>31</td>\n",
              "      <td>African</td>\n",
              "    </tr>\n",
              "    <tr>\n",
              "      <th>1</th>\n",
              "      <td>Debra</td>\n",
              "      <td>27</td>\n",
              "      <td>European</td>\n",
              "    </tr>\n",
              "    <tr>\n",
              "      <th>2</th>\n",
              "      <td>Minho</td>\n",
              "      <td>27</td>\n",
              "      <td>Asian</td>\n",
              "    </tr>\n",
              "    <tr>\n",
              "      <th>3</th>\n",
              "      <td>Ada</td>\n",
              "      <td>29</td>\n",
              "      <td>African</td>\n",
              "    </tr>\n",
              "    <tr>\n",
              "      <th>4</th>\n",
              "      <td>Ben</td>\n",
              "      <td>31</td>\n",
              "      <td>American</td>\n",
              "    </tr>\n",
              "    <tr>\n",
              "      <th>5</th>\n",
              "      <td>Sizwe</td>\n",
              "      <td>35</td>\n",
              "      <td>African</td>\n",
              "    </tr>\n",
              "    <tr>\n",
              "      <th>6</th>\n",
              "      <td>Ethan</td>\n",
              "      <td>29</td>\n",
              "      <td>Australian</td>\n",
              "    </tr>\n",
              "    <tr>\n",
              "      <th>7</th>\n",
              "      <td>Kedi</td>\n",
              "      <td>30</td>\n",
              "      <td>African</td>\n",
              "    </tr>\n",
              "    <tr>\n",
              "      <th>8</th>\n",
              "      <td>Joong Ki</td>\n",
              "      <td>34</td>\n",
              "      <td>Asian</td>\n",
              "    </tr>\n",
              "    <tr>\n",
              "      <th>9</th>\n",
              "      <td>Suzy</td>\n",
              "      <td>25</td>\n",
              "      <td>American</td>\n",
              "    </tr>\n",
              "  </tbody>\n",
              "</table>\n",
              "</div>"
            ],
            "text/plain": [
              "       Name  Age        Race\n",
              "0    Esther   31     African\n",
              "1     Debra   27    European\n",
              "2     Minho   27       Asian\n",
              "3       Ada   29     African\n",
              "4       Ben   31    American\n",
              "5     Sizwe   35     African\n",
              "6     Ethan   29  Australian\n",
              "7      Kedi   30     African\n",
              "8  Joong Ki   34       Asian\n",
              "9      Suzy   25    American"
            ]
          },
          "metadata": {},
          "execution_count": 3
        }
      ]
    },
    {
      "cell_type": "markdown",
      "metadata": {
        "id": "7gSj1WGuONWG"
      },
      "source": [
        "3. Add a new column to your dataframe called weight and enter values for it."
      ]
    },
    {
      "cell_type": "code",
      "metadata": {
        "colab": {
          "base_uri": "https://localhost:8080/",
          "height": 358
        },
        "id": "yTbP3tm5NS7M",
        "outputId": "a910bf92-f449-42c9-e155-2656c24d25e2"
      },
      "source": [
        "#Adding a new column to the DataFrame\n",
        "revised_info[\"Weight\"] = [150, 165,170,145,160,175,180,173,137,120]\n",
        "revised_info"
      ],
      "execution_count": 4,
      "outputs": [
        {
          "output_type": "execute_result",
          "data": {
            "text/html": [
              "<div>\n",
              "<style scoped>\n",
              "    .dataframe tbody tr th:only-of-type {\n",
              "        vertical-align: middle;\n",
              "    }\n",
              "\n",
              "    .dataframe tbody tr th {\n",
              "        vertical-align: top;\n",
              "    }\n",
              "\n",
              "    .dataframe thead th {\n",
              "        text-align: right;\n",
              "    }\n",
              "</style>\n",
              "<table border=\"1\" class=\"dataframe\">\n",
              "  <thead>\n",
              "    <tr style=\"text-align: right;\">\n",
              "      <th></th>\n",
              "      <th>Name</th>\n",
              "      <th>Age</th>\n",
              "      <th>Race</th>\n",
              "      <th>Weight</th>\n",
              "    </tr>\n",
              "  </thead>\n",
              "  <tbody>\n",
              "    <tr>\n",
              "      <th>0</th>\n",
              "      <td>Esther</td>\n",
              "      <td>31</td>\n",
              "      <td>African</td>\n",
              "      <td>150</td>\n",
              "    </tr>\n",
              "    <tr>\n",
              "      <th>1</th>\n",
              "      <td>Debra</td>\n",
              "      <td>27</td>\n",
              "      <td>European</td>\n",
              "      <td>165</td>\n",
              "    </tr>\n",
              "    <tr>\n",
              "      <th>2</th>\n",
              "      <td>Minho</td>\n",
              "      <td>27</td>\n",
              "      <td>Asian</td>\n",
              "      <td>170</td>\n",
              "    </tr>\n",
              "    <tr>\n",
              "      <th>3</th>\n",
              "      <td>Ada</td>\n",
              "      <td>29</td>\n",
              "      <td>African</td>\n",
              "      <td>145</td>\n",
              "    </tr>\n",
              "    <tr>\n",
              "      <th>4</th>\n",
              "      <td>Ben</td>\n",
              "      <td>31</td>\n",
              "      <td>American</td>\n",
              "      <td>160</td>\n",
              "    </tr>\n",
              "    <tr>\n",
              "      <th>5</th>\n",
              "      <td>Sizwe</td>\n",
              "      <td>35</td>\n",
              "      <td>African</td>\n",
              "      <td>175</td>\n",
              "    </tr>\n",
              "    <tr>\n",
              "      <th>6</th>\n",
              "      <td>Ethan</td>\n",
              "      <td>29</td>\n",
              "      <td>Australian</td>\n",
              "      <td>180</td>\n",
              "    </tr>\n",
              "    <tr>\n",
              "      <th>7</th>\n",
              "      <td>Kedi</td>\n",
              "      <td>30</td>\n",
              "      <td>African</td>\n",
              "      <td>173</td>\n",
              "    </tr>\n",
              "    <tr>\n",
              "      <th>8</th>\n",
              "      <td>Joong Ki</td>\n",
              "      <td>34</td>\n",
              "      <td>Asian</td>\n",
              "      <td>137</td>\n",
              "    </tr>\n",
              "    <tr>\n",
              "      <th>9</th>\n",
              "      <td>Suzy</td>\n",
              "      <td>25</td>\n",
              "      <td>American</td>\n",
              "      <td>120</td>\n",
              "    </tr>\n",
              "  </tbody>\n",
              "</table>\n",
              "</div>"
            ],
            "text/plain": [
              "       Name  Age        Race  Weight\n",
              "0    Esther   31     African     150\n",
              "1     Debra   27    European     165\n",
              "2     Minho   27       Asian     170\n",
              "3       Ada   29     African     145\n",
              "4       Ben   31    American     160\n",
              "5     Sizwe   35     African     175\n",
              "6     Ethan   29  Australian     180\n",
              "7      Kedi   30     African     173\n",
              "8  Joong Ki   34       Asian     137\n",
              "9      Suzy   25    American     120"
            ]
          },
          "metadata": {},
          "execution_count": 4
        }
      ]
    },
    {
      "cell_type": "markdown",
      "metadata": {
        "id": "Q7Bk6XimONWG"
      },
      "source": [
        "4. Change the name of the column for \"weight\" to \"height\". Feel free to use any method you find. "
      ]
    },
    {
      "cell_type": "code",
      "metadata": {
        "colab": {
          "base_uri": "https://localhost:8080/"
        },
        "id": "Cypf2YQvgnPv",
        "outputId": "e7e299c1-098a-444e-db7f-9f341a974c16"
      },
      "source": [
        "#Changing the cloumn \"Weight\" to \"Height\"\n",
        "revised_info_copy = revised_info.copy() # creating a new variable to contain the new dataframe with the column \"Height\"\n",
        "revised_info_copy.rename(columns={\"Weight\": \"Height\"}, inplace=True)\n",
        "print(revised_info_copy)"
      ],
      "execution_count": 5,
      "outputs": [
        {
          "output_type": "stream",
          "name": "stdout",
          "text": [
            "       Name  Age        Race  Height\n",
            "0    Esther   31     African     150\n",
            "1     Debra   27    European     165\n",
            "2     Minho   27       Asian     170\n",
            "3       Ada   29     African     145\n",
            "4       Ben   31    American     160\n",
            "5     Sizwe   35     African     175\n",
            "6     Ethan   29  Australian     180\n",
            "7      Kedi   30     African     173\n",
            "8  Joong Ki   34       Asian     137\n",
            "9      Suzy   25    American     120\n"
          ]
        }
      ]
    },
    {
      "cell_type": "markdown",
      "metadata": {
        "id": "lTPop9lvONWG"
      },
      "source": [
        "5. Change the row index to another indexing of your choice."
      ]
    },
    {
      "cell_type": "code",
      "metadata": {
        "colab": {
          "base_uri": "https://localhost:8080/"
        },
        "id": "i938BMoimecv",
        "outputId": "211374d5-ff87-4085-e666-7cef70dc2ea3"
      },
      "source": [
        "#changing the row index to letters A - J\n",
        "revised_info_copy = revised_info.copy()\n",
        "revised_info_copy.rename(columns={\"Weight\": \"Height\"},index={0:\"A\", 1:\"B\",2:\"C\",3:\"D\",4:\"E\",5:\"F\",6:\"G\",7:\"H\",8:\"I\",9:\"J\"}, inplace=True)\n",
        "print(revised_info_copy) "
      ],
      "execution_count": 6,
      "outputs": [
        {
          "output_type": "stream",
          "name": "stdout",
          "text": [
            "       Name  Age        Race  Height\n",
            "A    Esther   31     African     150\n",
            "B     Debra   27    European     165\n",
            "C     Minho   27       Asian     170\n",
            "D       Ada   29     African     145\n",
            "E       Ben   31    American     160\n",
            "F     Sizwe   35     African     175\n",
            "G     Ethan   29  Australian     180\n",
            "H      Kedi   30     African     173\n",
            "I  Joong Ki   34       Asian     137\n",
            "J      Suzy   25    American     120\n"
          ]
        }
      ]
    },
    {
      "cell_type": "markdown",
      "metadata": {
        "id": "jT9g2_H0ONWH"
      },
      "source": [
        "6. Select/display only the age and race columns"
      ]
    },
    {
      "cell_type": "code",
      "metadata": {
        "colab": {
          "base_uri": "https://localhost:8080/",
          "height": 358
        },
        "id": "JjPkXIdHf4Tm",
        "outputId": "1bc857b5-c425-4352-8f91-a2c85d14940b"
      },
      "source": [
        "#using the double bracket method to index \n",
        "revised_info_copy[[\"Age\",\"Race\"]]"
      ],
      "execution_count": 7,
      "outputs": [
        {
          "output_type": "execute_result",
          "data": {
            "text/html": [
              "<div>\n",
              "<style scoped>\n",
              "    .dataframe tbody tr th:only-of-type {\n",
              "        vertical-align: middle;\n",
              "    }\n",
              "\n",
              "    .dataframe tbody tr th {\n",
              "        vertical-align: top;\n",
              "    }\n",
              "\n",
              "    .dataframe thead th {\n",
              "        text-align: right;\n",
              "    }\n",
              "</style>\n",
              "<table border=\"1\" class=\"dataframe\">\n",
              "  <thead>\n",
              "    <tr style=\"text-align: right;\">\n",
              "      <th></th>\n",
              "      <th>Age</th>\n",
              "      <th>Race</th>\n",
              "    </tr>\n",
              "  </thead>\n",
              "  <tbody>\n",
              "    <tr>\n",
              "      <th>A</th>\n",
              "      <td>31</td>\n",
              "      <td>African</td>\n",
              "    </tr>\n",
              "    <tr>\n",
              "      <th>B</th>\n",
              "      <td>27</td>\n",
              "      <td>European</td>\n",
              "    </tr>\n",
              "    <tr>\n",
              "      <th>C</th>\n",
              "      <td>27</td>\n",
              "      <td>Asian</td>\n",
              "    </tr>\n",
              "    <tr>\n",
              "      <th>D</th>\n",
              "      <td>29</td>\n",
              "      <td>African</td>\n",
              "    </tr>\n",
              "    <tr>\n",
              "      <th>E</th>\n",
              "      <td>31</td>\n",
              "      <td>American</td>\n",
              "    </tr>\n",
              "    <tr>\n",
              "      <th>F</th>\n",
              "      <td>35</td>\n",
              "      <td>African</td>\n",
              "    </tr>\n",
              "    <tr>\n",
              "      <th>G</th>\n",
              "      <td>29</td>\n",
              "      <td>Australian</td>\n",
              "    </tr>\n",
              "    <tr>\n",
              "      <th>H</th>\n",
              "      <td>30</td>\n",
              "      <td>African</td>\n",
              "    </tr>\n",
              "    <tr>\n",
              "      <th>I</th>\n",
              "      <td>34</td>\n",
              "      <td>Asian</td>\n",
              "    </tr>\n",
              "    <tr>\n",
              "      <th>J</th>\n",
              "      <td>25</td>\n",
              "      <td>American</td>\n",
              "    </tr>\n",
              "  </tbody>\n",
              "</table>\n",
              "</div>"
            ],
            "text/plain": [
              "   Age        Race\n",
              "A   31     African\n",
              "B   27    European\n",
              "C   27       Asian\n",
              "D   29     African\n",
              "E   31    American\n",
              "F   35     African\n",
              "G   29  Australian\n",
              "H   30     African\n",
              "I   34       Asian\n",
              "J   25    American"
            ]
          },
          "metadata": {},
          "execution_count": 7
        }
      ]
    },
    {
      "cell_type": "markdown",
      "metadata": {
        "id": "nPffixWwONWH"
      },
      "source": [
        "7. Select/display the first five names and their age "
      ]
    },
    {
      "cell_type": "code",
      "metadata": {
        "colab": {
          "base_uri": "https://localhost:8080/",
          "height": 204
        },
        "id": "MC2juKAKgQ9S",
        "outputId": "afab048d-c111-43fc-db30-0d798bec56d6"
      },
      "source": [
        "#using the.loc method to display rhe fist five names and thier ages within the DataFrame\n",
        "revised_info_copy.loc[\"A\":\"E\",\"Name\":\"Age\"]"
      ],
      "execution_count": 8,
      "outputs": [
        {
          "output_type": "execute_result",
          "data": {
            "text/html": [
              "<div>\n",
              "<style scoped>\n",
              "    .dataframe tbody tr th:only-of-type {\n",
              "        vertical-align: middle;\n",
              "    }\n",
              "\n",
              "    .dataframe tbody tr th {\n",
              "        vertical-align: top;\n",
              "    }\n",
              "\n",
              "    .dataframe thead th {\n",
              "        text-align: right;\n",
              "    }\n",
              "</style>\n",
              "<table border=\"1\" class=\"dataframe\">\n",
              "  <thead>\n",
              "    <tr style=\"text-align: right;\">\n",
              "      <th></th>\n",
              "      <th>Name</th>\n",
              "      <th>Age</th>\n",
              "    </tr>\n",
              "  </thead>\n",
              "  <tbody>\n",
              "    <tr>\n",
              "      <th>A</th>\n",
              "      <td>Esther</td>\n",
              "      <td>31</td>\n",
              "    </tr>\n",
              "    <tr>\n",
              "      <th>B</th>\n",
              "      <td>Debra</td>\n",
              "      <td>27</td>\n",
              "    </tr>\n",
              "    <tr>\n",
              "      <th>C</th>\n",
              "      <td>Minho</td>\n",
              "      <td>27</td>\n",
              "    </tr>\n",
              "    <tr>\n",
              "      <th>D</th>\n",
              "      <td>Ada</td>\n",
              "      <td>29</td>\n",
              "    </tr>\n",
              "    <tr>\n",
              "      <th>E</th>\n",
              "      <td>Ben</td>\n",
              "      <td>31</td>\n",
              "    </tr>\n",
              "  </tbody>\n",
              "</table>\n",
              "</div>"
            ],
            "text/plain": [
              "     Name  Age\n",
              "A  Esther   31\n",
              "B   Debra   27\n",
              "C   Minho   27\n",
              "D     Ada   29\n",
              "E     Ben   31"
            ]
          },
          "metadata": {},
          "execution_count": 8
        }
      ]
    },
    {
      "cell_type": "markdown",
      "metadata": {
        "id": "RnosePWHONWH"
      },
      "source": [
        "8. Select all rows but only the third column"
      ]
    },
    {
      "cell_type": "code",
      "metadata": {
        "colab": {
          "base_uri": "https://localhost:8080/",
          "height": 327
        },
        "id": "XlAusDqqkt7X",
        "outputId": "9c7d17ac-8575-4fb0-915f-5fc1ddbf99be"
      },
      "source": [
        "#using the .iloc method to display all rows but only the third column which is \"Race\"\n",
        "revised_info_copy.iloc[0:9,2:3]"
      ],
      "execution_count": 9,
      "outputs": [
        {
          "output_type": "execute_result",
          "data": {
            "text/html": [
              "<div>\n",
              "<style scoped>\n",
              "    .dataframe tbody tr th:only-of-type {\n",
              "        vertical-align: middle;\n",
              "    }\n",
              "\n",
              "    .dataframe tbody tr th {\n",
              "        vertical-align: top;\n",
              "    }\n",
              "\n",
              "    .dataframe thead th {\n",
              "        text-align: right;\n",
              "    }\n",
              "</style>\n",
              "<table border=\"1\" class=\"dataframe\">\n",
              "  <thead>\n",
              "    <tr style=\"text-align: right;\">\n",
              "      <th></th>\n",
              "      <th>Race</th>\n",
              "    </tr>\n",
              "  </thead>\n",
              "  <tbody>\n",
              "    <tr>\n",
              "      <th>A</th>\n",
              "      <td>African</td>\n",
              "    </tr>\n",
              "    <tr>\n",
              "      <th>B</th>\n",
              "      <td>European</td>\n",
              "    </tr>\n",
              "    <tr>\n",
              "      <th>C</th>\n",
              "      <td>Asian</td>\n",
              "    </tr>\n",
              "    <tr>\n",
              "      <th>D</th>\n",
              "      <td>African</td>\n",
              "    </tr>\n",
              "    <tr>\n",
              "      <th>E</th>\n",
              "      <td>American</td>\n",
              "    </tr>\n",
              "    <tr>\n",
              "      <th>F</th>\n",
              "      <td>African</td>\n",
              "    </tr>\n",
              "    <tr>\n",
              "      <th>G</th>\n",
              "      <td>Australian</td>\n",
              "    </tr>\n",
              "    <tr>\n",
              "      <th>H</th>\n",
              "      <td>African</td>\n",
              "    </tr>\n",
              "    <tr>\n",
              "      <th>I</th>\n",
              "      <td>Asian</td>\n",
              "    </tr>\n",
              "  </tbody>\n",
              "</table>\n",
              "</div>"
            ],
            "text/plain": [
              "         Race\n",
              "A     African\n",
              "B    European\n",
              "C       Asian\n",
              "D     African\n",
              "E    American\n",
              "F     African\n",
              "G  Australian\n",
              "H     African\n",
              "I       Asian"
            ]
          },
          "metadata": {},
          "execution_count": 9
        }
      ]
    },
    {
      "cell_type": "markdown",
      "metadata": {
        "id": "loU9ctgRONWI"
      },
      "source": [
        "9. Write some code to return the row index back to the default numbering before it was changed. Use your researching skills."
      ]
    },
    {
      "cell_type": "code",
      "metadata": {
        "colab": {
          "base_uri": "https://localhost:8080/",
          "height": 358
        },
        "id": "CDjMqKtunF-z",
        "outputId": "c054448a-8fa5-4f9f-d03b-41404b282d00"
      },
      "source": [
        "#Returning the index to its original numbering\n",
        "final_copy = revised_info_copy.reset_index(drop = True) #drop takes out the new index A-J\n",
        "final_copy"
      ],
      "execution_count": 10,
      "outputs": [
        {
          "output_type": "execute_result",
          "data": {
            "text/html": [
              "<div>\n",
              "<style scoped>\n",
              "    .dataframe tbody tr th:only-of-type {\n",
              "        vertical-align: middle;\n",
              "    }\n",
              "\n",
              "    .dataframe tbody tr th {\n",
              "        vertical-align: top;\n",
              "    }\n",
              "\n",
              "    .dataframe thead th {\n",
              "        text-align: right;\n",
              "    }\n",
              "</style>\n",
              "<table border=\"1\" class=\"dataframe\">\n",
              "  <thead>\n",
              "    <tr style=\"text-align: right;\">\n",
              "      <th></th>\n",
              "      <th>Name</th>\n",
              "      <th>Age</th>\n",
              "      <th>Race</th>\n",
              "      <th>Height</th>\n",
              "    </tr>\n",
              "  </thead>\n",
              "  <tbody>\n",
              "    <tr>\n",
              "      <th>0</th>\n",
              "      <td>Esther</td>\n",
              "      <td>31</td>\n",
              "      <td>African</td>\n",
              "      <td>150</td>\n",
              "    </tr>\n",
              "    <tr>\n",
              "      <th>1</th>\n",
              "      <td>Debra</td>\n",
              "      <td>27</td>\n",
              "      <td>European</td>\n",
              "      <td>165</td>\n",
              "    </tr>\n",
              "    <tr>\n",
              "      <th>2</th>\n",
              "      <td>Minho</td>\n",
              "      <td>27</td>\n",
              "      <td>Asian</td>\n",
              "      <td>170</td>\n",
              "    </tr>\n",
              "    <tr>\n",
              "      <th>3</th>\n",
              "      <td>Ada</td>\n",
              "      <td>29</td>\n",
              "      <td>African</td>\n",
              "      <td>145</td>\n",
              "    </tr>\n",
              "    <tr>\n",
              "      <th>4</th>\n",
              "      <td>Ben</td>\n",
              "      <td>31</td>\n",
              "      <td>American</td>\n",
              "      <td>160</td>\n",
              "    </tr>\n",
              "    <tr>\n",
              "      <th>5</th>\n",
              "      <td>Sizwe</td>\n",
              "      <td>35</td>\n",
              "      <td>African</td>\n",
              "      <td>175</td>\n",
              "    </tr>\n",
              "    <tr>\n",
              "      <th>6</th>\n",
              "      <td>Ethan</td>\n",
              "      <td>29</td>\n",
              "      <td>Australian</td>\n",
              "      <td>180</td>\n",
              "    </tr>\n",
              "    <tr>\n",
              "      <th>7</th>\n",
              "      <td>Kedi</td>\n",
              "      <td>30</td>\n",
              "      <td>African</td>\n",
              "      <td>173</td>\n",
              "    </tr>\n",
              "    <tr>\n",
              "      <th>8</th>\n",
              "      <td>Joong Ki</td>\n",
              "      <td>34</td>\n",
              "      <td>Asian</td>\n",
              "      <td>137</td>\n",
              "    </tr>\n",
              "    <tr>\n",
              "      <th>9</th>\n",
              "      <td>Suzy</td>\n",
              "      <td>25</td>\n",
              "      <td>American</td>\n",
              "      <td>120</td>\n",
              "    </tr>\n",
              "  </tbody>\n",
              "</table>\n",
              "</div>"
            ],
            "text/plain": [
              "       Name  Age        Race  Height\n",
              "0    Esther   31     African     150\n",
              "1     Debra   27    European     165\n",
              "2     Minho   27       Asian     170\n",
              "3       Ada   29     African     145\n",
              "4       Ben   31    American     160\n",
              "5     Sizwe   35     African     175\n",
              "6     Ethan   29  Australian     180\n",
              "7      Kedi   30     African     173\n",
              "8  Joong Ki   34       Asian     137\n",
              "9      Suzy   25    American     120"
            ]
          },
          "metadata": {},
          "execution_count": 10
        }
      ]
    },
    {
      "cell_type": "markdown",
      "metadata": {
        "id": "iT145jmMONWJ"
      },
      "source": [
        "10. Create a dataframe from the dictionary above. Using the dataframe, select books with ratings not less than 200000"
      ]
    },
    {
      "cell_type": "code",
      "metadata": {
        "id": "3yBUOaexONWI",
        "colab": {
          "base_uri": "https://localhost:8080/",
          "height": 204
        },
        "outputId": "aae8c2cc-8e60-4160-b7ad-d34961c09113"
      },
      "source": [
        "#creating a DataFrame from the dictionary provided.\n",
        "chimamanda = {\"Books\":[\"Americanah\", \"Half of a Yellow Sun\", \"Purple Hibiscus\",\n",
        "                    \"The Thing Around Your Neck\", \"We Should All Be Feminists\"], \n",
        "             \"Ratings\":[297972, 120131, 5116, 32064, 204882]}\n",
        "chimamandabooks = pd.DataFrame(chimamanda)\n",
        "chimamandabooks"
      ],
      "execution_count": 11,
      "outputs": [
        {
          "output_type": "execute_result",
          "data": {
            "text/html": [
              "<div>\n",
              "<style scoped>\n",
              "    .dataframe tbody tr th:only-of-type {\n",
              "        vertical-align: middle;\n",
              "    }\n",
              "\n",
              "    .dataframe tbody tr th {\n",
              "        vertical-align: top;\n",
              "    }\n",
              "\n",
              "    .dataframe thead th {\n",
              "        text-align: right;\n",
              "    }\n",
              "</style>\n",
              "<table border=\"1\" class=\"dataframe\">\n",
              "  <thead>\n",
              "    <tr style=\"text-align: right;\">\n",
              "      <th></th>\n",
              "      <th>Books</th>\n",
              "      <th>Ratings</th>\n",
              "    </tr>\n",
              "  </thead>\n",
              "  <tbody>\n",
              "    <tr>\n",
              "      <th>0</th>\n",
              "      <td>Americanah</td>\n",
              "      <td>297972</td>\n",
              "    </tr>\n",
              "    <tr>\n",
              "      <th>1</th>\n",
              "      <td>Half of a Yellow Sun</td>\n",
              "      <td>120131</td>\n",
              "    </tr>\n",
              "    <tr>\n",
              "      <th>2</th>\n",
              "      <td>Purple Hibiscus</td>\n",
              "      <td>5116</td>\n",
              "    </tr>\n",
              "    <tr>\n",
              "      <th>3</th>\n",
              "      <td>The Thing Around Your Neck</td>\n",
              "      <td>32064</td>\n",
              "    </tr>\n",
              "    <tr>\n",
              "      <th>4</th>\n",
              "      <td>We Should All Be Feminists</td>\n",
              "      <td>204882</td>\n",
              "    </tr>\n",
              "  </tbody>\n",
              "</table>\n",
              "</div>"
            ],
            "text/plain": [
              "                        Books  Ratings\n",
              "0                  Americanah   297972\n",
              "1        Half of a Yellow Sun   120131\n",
              "2             Purple Hibiscus     5116\n",
              "3  The Thing Around Your Neck    32064\n",
              "4  We Should All Be Feminists   204882"
            ]
          },
          "metadata": {},
          "execution_count": 11
        }
      ]
    },
    {
      "cell_type": "code",
      "metadata": {
        "colab": {
          "base_uri": "https://localhost:8080/",
          "height": 111
        },
        "id": "y7T5iIdh9FBj",
        "outputId": "6700c0e9-972c-4dbe-faf2-356bf290ff7c"
      },
      "source": [
        "#To select books whose ratings are greater than 200,000\n",
        "chimamandabooks[chimamandabooks.Ratings >= 200000]"
      ],
      "execution_count": 12,
      "outputs": [
        {
          "output_type": "execute_result",
          "data": {
            "text/html": [
              "<div>\n",
              "<style scoped>\n",
              "    .dataframe tbody tr th:only-of-type {\n",
              "        vertical-align: middle;\n",
              "    }\n",
              "\n",
              "    .dataframe tbody tr th {\n",
              "        vertical-align: top;\n",
              "    }\n",
              "\n",
              "    .dataframe thead th {\n",
              "        text-align: right;\n",
              "    }\n",
              "</style>\n",
              "<table border=\"1\" class=\"dataframe\">\n",
              "  <thead>\n",
              "    <tr style=\"text-align: right;\">\n",
              "      <th></th>\n",
              "      <th>Books</th>\n",
              "      <th>Ratings</th>\n",
              "    </tr>\n",
              "  </thead>\n",
              "  <tbody>\n",
              "    <tr>\n",
              "      <th>0</th>\n",
              "      <td>Americanah</td>\n",
              "      <td>297972</td>\n",
              "    </tr>\n",
              "    <tr>\n",
              "      <th>4</th>\n",
              "      <td>We Should All Be Feminists</td>\n",
              "      <td>204882</td>\n",
              "    </tr>\n",
              "  </tbody>\n",
              "</table>\n",
              "</div>"
            ],
            "text/plain": [
              "                        Books  Ratings\n",
              "0                  Americanah   297972\n",
              "4  We Should All Be Feminists   204882"
            ]
          },
          "metadata": {},
          "execution_count": 12
        }
      ]
    },
    {
      "cell_type": "markdown",
      "metadata": {
        "id": "Iv2UJqNArVjM"
      },
      "source": [
        "11. Create a numpy array with data type boolean"
      ]
    },
    {
      "cell_type": "code",
      "metadata": {
        "colab": {
          "base_uri": "https://localhost:8080/"
        },
        "id": "Z2LMNY_qTDqm",
        "outputId": "1327a2e2-2f3b-4660-9e5d-608a6f3ca5f5"
      },
      "source": [
        "#creating a numpy array with boolean data type \n",
        "arr = np.array([True,False,True,False])\n",
        "print(arr)\n",
        "print(\"This datatype is a \",arr.dtype)\n",
        "print(\"The shape of this datatype is a \",arr.shape)"
      ],
      "execution_count": 13,
      "outputs": [
        {
          "output_type": "stream",
          "name": "stdout",
          "text": [
            "[ True False  True False]\n",
            "This datatype is a  bool\n",
            "The shape of this datatype is a  (4,)\n"
          ]
        }
      ]
    },
    {
      "cell_type": "code",
      "metadata": {
        "id": "-RmPlq2Kqwk5",
        "colab": {
          "base_uri": "https://localhost:8080/"
        },
        "outputId": "0e387c5f-d172-48e2-a6e4-0c367f3afb08"
      },
      "source": [
        "# 12. Convert the following array to an integer\n",
        "\n",
        "a = np.array([[True, False, False],\n",
        "              [True, True, True],\n",
        "              [False, False, False]])\n",
        "\n",
        "p = a.astype(int)\n",
        "\n",
        "print(p)\n",
        "print(\"The shape of the p is\",p.shape)"
      ],
      "execution_count": 14,
      "outputs": [
        {
          "output_type": "stream",
          "name": "stdout",
          "text": [
            "[[1 0 0]\n",
            " [1 1 1]\n",
            " [0 0 0]]\n",
            "The shape of the p is (3, 3)\n"
          ]
        }
      ]
    },
    {
      "cell_type": "code",
      "metadata": {
        "id": "PviA_PmHsVUE",
        "colab": {
          "base_uri": "https://localhost:8080/"
        },
        "outputId": "81c4edc4-b10f-4ba2-e03d-8db650815e8b"
      },
      "source": [
        "#13. Stack these numpy arrays - vertically and horizontally\n",
        "\n",
        "a = np.array([[7, 8, 9],\n",
        "              [10, 11, 12]])\n",
        "\n",
        "aa = np.array([[1, 2, 3],\n",
        "               [4, 5, 6]])\n",
        "\n",
        "v = np.hstack([a, aa]) #using hstack\n",
        "w = np.vstack([a, aa]) #using vstack\n",
        "print(v)\n",
        "print(w)"
      ],
      "execution_count": 15,
      "outputs": [
        {
          "output_type": "stream",
          "name": "stdout",
          "text": [
            "[[ 7  8  9  1  2  3]\n",
            " [10 11 12  4  5  6]]\n",
            "[[ 7  8  9]\n",
            " [10 11 12]\n",
            " [ 1  2  3]\n",
            " [ 4  5  6]]\n"
          ]
        }
      ]
    },
    {
      "cell_type": "code",
      "metadata": {
        "id": "Kpof-RhaKgVM"
      },
      "source": [
        ""
      ],
      "execution_count": 15,
      "outputs": []
    },
    {
      "cell_type": "markdown",
      "metadata": {
        "id": "Vr2vTe6AtTkp"
      },
      "source": [
        "14. Create 2 3D arrays, add them together to create a new array, then sort the new array."
      ]
    },
    {
      "cell_type": "code",
      "metadata": {
        "colab": {
          "base_uri": "https://localhost:8080/"
        },
        "id": "Nu3T2eq95Ixz",
        "outputId": "a38ddd94-f27e-4cda-e884-3f145b39c195"
      },
      "source": [
        "#adding 3D arrays using the add method \n",
        "arr =np.array([[[1,5,3],[4,11,6]],[[23,8,9],[12,11,18]]])\n",
        "arr2 =np.array([[[2,7,6],[8,17,12]],[[20,16,18],[23,22,24]]])\n",
        "\n",
        "arr3 = np.add(arr,arr2)\n",
        "\n",
        "print(arr3)\n",
        "print(\"The shape of the arr3 is\",arr3.shape)\n"
      ],
      "execution_count": 16,
      "outputs": [
        {
          "output_type": "stream",
          "name": "stdout",
          "text": [
            "[[[ 3 12  9]\n",
            "  [12 28 18]]\n",
            "\n",
            " [[43 24 27]\n",
            "  [35 33 42]]]\n",
            "The shape of the arr3 is (2, 2, 3)\n"
          ]
        }
      ]
    },
    {
      "cell_type": "code",
      "metadata": {
        "colab": {
          "base_uri": "https://localhost:8080/"
        },
        "id": "WKkqQamU7K6s",
        "outputId": "f37d50f8-8650-4e9b-8bf9-58adc8df7f6a"
      },
      "source": [
        "#sort arr3\n",
        "print(np.sort(arr3))\n",
        "print(\"The shape of the arr3 is\",arr3.shape)"
      ],
      "execution_count": 17,
      "outputs": [
        {
          "output_type": "stream",
          "name": "stdout",
          "text": [
            "[[[ 3  9 12]\n",
            "  [12 18 28]]\n",
            "\n",
            " [[24 27 43]\n",
            "  [33 35 42]]]\n",
            "The shape of the arr3 is (2, 2, 3)\n"
          ]
        }
      ]
    },
    {
      "cell_type": "code",
      "metadata": {
        "id": "sR8Z-84utKIu",
        "colab": {
          "base_uri": "https://localhost:8080/"
        },
        "outputId": "f8c0598f-0cf5-4305-cde4-611fe5fd6f8b"
      },
      "source": [
        "#15. Using step slicing, slice the array below from any position using 3 steps\n",
        "\n",
        "a = np.array([5, 8, 7, 1, 0, 9, 4, 2, 6, 3])\n",
        "print(\"Taking 3 steps, we have these numbers\",a[0:9:3], \"between the first and last element of the variable a.\")\n"
      ],
      "execution_count": 18,
      "outputs": [
        {
          "output_type": "stream",
          "name": "stdout",
          "text": [
            "Taking 3 steps, we have these numbers [5 1 4] between the first and last element of the variable a.\n"
          ]
        }
      ]
    }
  ]
}