{
  "nbformat": 4,
  "nbformat_minor": 0,
  "metadata": {
    "kernelspec": {
      "display_name": "Python 3",
      "language": "python",
      "name": "python3"
    },
    "language_info": {
      "codemirror_mode": {
        "name": "ipython",
        "version": 3
      },
      "file_extension": ".py",
      "mimetype": "text/x-python",
      "name": "python",
      "nbconvert_exporter": "python",
      "pygments_lexer": "ipython3",
      "version": "3.8.5"
    },
    "colab": {
      "name": "Kadatemy Assignment - Chinelo (October 16th)",
      "provenance": [],
      "include_colab_link": true
    }
  },
  "cells": [
    {
      "cell_type": "markdown",
      "metadata": {
        "id": "view-in-github",
        "colab_type": "text"
      },
      "source": [
        "<a href=\"https://colab.research.google.com/github/NayloEze/Data-Types-List-and-Sets/blob/main/Kadatemy_Assignment_Chinelo_(October_16th).ipynb\" target=\"_parent\"><img src=\"https://colab.research.google.com/assets/colab-badge.svg\" alt=\"Open In Colab\"/></a>"
      ]
    },
    {
      "cell_type": "markdown",
      "metadata": {
        "id": "1ntjdLDmvR4I"
      },
      "source": [
        "## 1. \n",
        "\n",
        "\n",
        "x = 16 - 2 * 5 // 3 + 1\n",
        "\n",
        "\n",
        "y = 2 ** 3 * 3\n",
        "\n",
        "what is x?\n",
        "what is y?\n",
        "\n",
        "Describe the order that the computation occurred in each case. i.e which happened first, followed by which one, etc."
      ]
    },
    {
      "cell_type": "code",
      "metadata": {
        "colab": {
          "base_uri": "https://localhost:8080/"
        },
        "id": "gpRNLx4VTdNy",
        "outputId": "a0df836d-960a-444a-a04a-24dad5563b2a"
      },
      "source": [
        "x = 16 - 2 * 5 // 3 + 1\n",
        "print(x)\n",
        "#Multiplication came first (2*3)\n",
        "#Floor divison second (10//3)\n",
        "#Subtraction third (16-3)\n",
        "#Addition fourth (13+1)"
      ],
      "execution_count": 5,
      "outputs": [
        {
          "output_type": "stream",
          "name": "stdout",
          "text": [
            "14\n"
          ]
        }
      ]
    },
    {
      "cell_type": "code",
      "metadata": {
        "colab": {
          "base_uri": "https://localhost:8080/"
        },
        "id": "yoWzaq-lUnte",
        "outputId": "2585de35-38ff-4cd7-b402-64b219ee1995"
      },
      "source": [
        "y = 2 ** 3 * 3\n",
        "print(y)\n",
        "#Raised Power (2**3)\n",
        "#Multiplication (8*3)"
      ],
      "execution_count": 6,
      "outputs": [
        {
          "output_type": "stream",
          "name": "stdout",
          "text": [
            "24\n"
          ]
        }
      ]
    },
    {
      "cell_type": "markdown",
      "metadata": {
        "id": "Ea97Vtp0vR4P"
      },
      "source": [
        "## 2. \n",
        "Add parenthesis to the expression 6 * 1 - 2 to change the resulting value from 4 to -6."
      ]
    },
    {
      "cell_type": "code",
      "metadata": {
        "colab": {
          "base_uri": "https://localhost:8080/"
        },
        "id": "FHJGcDdsVZ-d",
        "outputId": "0b5e457d-031e-47bf-a384-346ab93614b6"
      },
      "source": [
        "a = 6 * 1 - 2 \n",
        "a2 = 6 * (1 - 2) \n",
        "print(a)\n",
        "print(a2)"
      ],
      "execution_count": 7,
      "outputs": [
        {
          "output_type": "stream",
          "name": "stdout",
          "text": [
            "4\n",
            "-6\n"
          ]
        }
      ]
    },
    {
      "cell_type": "markdown",
      "metadata": {
        "id": "IbHCMTFjvR4Q"
      },
      "source": [
        "## 3. \n",
        "Compute the area of a circle with radius 7, stored into a variable called area. \n",
        "Print a nice message with the answer.\n",
        "\n",
        "Note- Search for the formula to calculate area of a circle. "
      ]
    },
    {
      "cell_type": "code",
      "metadata": {
        "colab": {
          "base_uri": "https://localhost:8080/"
        },
        "id": "fNq3RcZFV7zl",
        "outputId": "f48daa4b-4096-483c-892c-bef49fd9c1b5"
      },
      "source": [
        "#Area of Circle = πr2 where π is 3.14\n",
        "area = 3.14 * 7 ** 2\n",
        "print(area)\n"
      ],
      "execution_count": 46,
      "outputs": [
        {
          "output_type": "stream",
          "name": "stdout",
          "text": [
            "153.86\n"
          ]
        }
      ]
    },
    {
      "cell_type": "code",
      "metadata": {
        "colab": {
          "base_uri": "https://localhost:8080/"
        },
        "id": "CiZ-m4dgYR6A",
        "outputId": "6e3092a2-3fda-442e-961b-6c1816939df5"
      },
      "source": [
        "area2 = str(area)\n",
        "print(area2)"
      ],
      "execution_count": 9,
      "outputs": [
        {
          "output_type": "stream",
          "name": "stdout",
          "text": [
            "153.86\n"
          ]
        }
      ]
    },
    {
      "cell_type": "code",
      "metadata": {
        "colab": {
          "base_uri": "https://localhost:8080/"
        },
        "id": "cmGNnvt8X6UK",
        "outputId": "46ede23b-4722-40fc-9896-98fafd83df45"
      },
      "source": [
        "message = \"From the calculation above, you can see that the circle has a large area of \" + area2\n",
        "print(message)"
      ],
      "execution_count": 10,
      "outputs": [
        {
          "output_type": "stream",
          "name": "stdout",
          "text": [
            "From the calculation above, you can see that the circle has a large area of 153.86\n"
          ]
        }
      ]
    },
    {
      "cell_type": "markdown",
      "metadata": {
        "id": "1iQwAYRMvR4R"
      },
      "source": [
        "## 4. \n",
        "Write an expression to check to if a number 3, stored in a variable x, is between 0 and 5."
      ]
    },
    {
      "cell_type": "code",
      "metadata": {
        "colab": {
          "base_uri": "https://localhost:8080/"
        },
        "id": "V9IbuWuQWaQa",
        "outputId": "9633b406-1d76-4096-d93e-6f7074644e6c"
      },
      "source": [
        "x = 3\n",
        "if x > 0 and x < 5:\n",
        " print(\"x is between 0 and 5\")"
      ],
      "execution_count": 11,
      "outputs": [
        {
          "output_type": "stream",
          "name": "stdout",
          "text": [
            "x is between 0 and 5\n"
          ]
        }
      ]
    },
    {
      "cell_type": "markdown",
      "metadata": {
        "id": "kJtzvxfyvR4S"
      },
      "source": [
        "## 5. \n",
        "\n",
        "Variables x and y refer to Boolean values.\n",
        "\n",
        "\n",
        "a. Write an expression that produces True if both variables are True.\n",
        "\n",
        "b. Write an expression that produces True if at least one of the variables\n",
        "is True.\n",
        "\n",
        "c. write an expression that inverses the result of 5a above."
      ]
    },
    {
      "cell_type": "code",
      "metadata": {
        "colab": {
          "base_uri": "https://localhost:8080/"
        },
        "id": "id1k21P5bkvZ",
        "outputId": "6add5611-8622-44fc-a4b0-4d0c2cad76f5"
      },
      "source": [
        " height  = 165\n",
        "\n",
        " short_height = height > 150 and height < 180\n",
        " short_height\n",
        " "
      ],
      "execution_count": 2,
      "outputs": [
        {
          "output_type": "execute_result",
          "data": {
            "text/plain": [
              "True"
            ]
          },
          "metadata": {},
          "execution_count": 2
        }
      ]
    },
    {
      "cell_type": "code",
      "metadata": {
        "colab": {
          "base_uri": "https://localhost:8080/"
        },
        "id": "K0AaLQheiDB7",
        "outputId": "045d7e64-4f30-425c-a217-a66e8f98c899"
      },
      "source": [
        "short_height = height > 150 or height > 180\n",
        "short_height"
      ],
      "execution_count": 3,
      "outputs": [
        {
          "output_type": "execute_result",
          "data": {
            "text/plain": [
              "True"
            ]
          },
          "metadata": {},
          "execution_count": 3
        }
      ]
    },
    {
      "cell_type": "code",
      "metadata": {
        "colab": {
          "base_uri": "https://localhost:8080/"
        },
        "id": "AnanCvEAiLtr",
        "outputId": "f56a8c59-f51a-43c5-ef0c-732f3010239d"
      },
      "source": [
        "short_height = not (height > 150 and height < 180)\n",
        "short_height"
      ],
      "execution_count": 4,
      "outputs": [
        {
          "output_type": "execute_result",
          "data": {
            "text/plain": [
              "False"
            ]
          },
          "metadata": {},
          "execution_count": 4
        }
      ]
    },
    {
      "cell_type": "markdown",
      "metadata": {
        "id": "__S88QMFvR4T"
      },
      "source": [
        "## 6.\n",
        "Create a list that contains floats and integers, and write a code to sum all the items in the list."
      ]
    },
    {
      "cell_type": "code",
      "metadata": {
        "colab": {
          "base_uri": "https://localhost:8080/"
        },
        "id": "SZvsP7r1rGUP",
        "outputId": "d97af227-ac57-463c-c035-9c1a18b2d15d"
      },
      "source": [
        "scores = [70, 80, 99.9, 67, 58.5, 30, 100]\n",
        "\n",
        "total_scores = sum(scores)\n",
        "total_scores"
      ],
      "execution_count": 12,
      "outputs": [
        {
          "output_type": "execute_result",
          "data": {
            "text/plain": [
              "505.4"
            ]
          },
          "metadata": {},
          "execution_count": 12
        }
      ]
    },
    {
      "cell_type": "markdown",
      "metadata": {
        "id": "QitwhzyZvR4T"
      },
      "source": [
        "## 7.\n",
        "list1 = [3, 5, 1, 3, 9, 5, 7] \n",
        "\n",
        "Write a code to sort this list in increasing order."
      ]
    },
    {
      "cell_type": "code",
      "metadata": {
        "colab": {
          "base_uri": "https://localhost:8080/"
        },
        "id": "KtxhQU-osmI1",
        "outputId": "45f1ce8c-40f6-4be0-ee34-48a72ebc3a16"
      },
      "source": [
        "list1 = [3, 5, 1, 3, 9, 5, 7]\n",
        "list1.sort()\n",
        "list1"
      ],
      "execution_count": 13,
      "outputs": [
        {
          "output_type": "execute_result",
          "data": {
            "text/plain": [
              "[1, 3, 3, 5, 5, 7, 9]"
            ]
          },
          "metadata": {},
          "execution_count": 13
        }
      ]
    },
    {
      "cell_type": "markdown",
      "metadata": {
        "id": "3vSsnJAgvR4U"
      },
      "source": [
        "## 8.\n",
        "\n",
        "list2 = [1, 2, 5, 7, 9, 0, 3, 6, 7, 1, 3, 5, 6, 8, ,2, 9, 0, 5, 2, 1, 2, 4, 2]\n",
        "\n",
        "Write a code to count how many times 2 occured in the list"
      ]
    },
    {
      "cell_type": "code",
      "metadata": {
        "colab": {
          "base_uri": "https://localhost:8080/"
        },
        "id": "fuYCo0I6sxjH",
        "outputId": "1f1170da-4f5f-4730-f99c-325c9c8a959a"
      },
      "source": [
        "list2 = [1, 2, 5, 7, 9, 0, 3, 6, 7, 1, 3, 5, 6, 8, 2, 9, 0, 5, 2, 1, 2, 4, 2]\n",
        "x = list2.count(2)\n",
        "x"
      ],
      "execution_count": 14,
      "outputs": [
        {
          "output_type": "execute_result",
          "data": {
            "text/plain": [
              "5"
            ]
          },
          "metadata": {},
          "execution_count": 14
        }
      ]
    },
    {
      "cell_type": "markdown",
      "metadata": {
        "id": "3SC09a-4vR4V"
      },
      "source": [
        "## 9.\n",
        "list3 = [\"Tosin\", 10.4, 9, (23, \"Faith\", [10, [\"Chinelo\", \"Sandra\"], 22)], 100, 85.5, 12.4, \"Promise\", (\"11\", 90)]\n",
        "\n",
        "Using string formatting, write a code that slices out \"Chinelo\", \"Faith\", slices out the number 100, 85.5, and 90.\n",
        "\n",
        "Your code should print out: Chinelo couldn't score 100%, she got 90%, However, Faith is a close second with 85.5%.\n",
        "\n",
        "NB: Make sure your output contains % sign"
      ]
    },
    {
      "cell_type": "code",
      "metadata": {
        "colab": {
          "base_uri": "https://localhost:8080/",
          "height": 37
        },
        "id": "kYKpyEeg1AIX",
        "outputId": "9c44a6ff-5357-484b-8222-35a79fb7d87a"
      },
      "source": [
        "list3 = [\"Tosin\", 10.4, 9, (23, \"Faith\", [10, [\"Chinelo\", \"Sandra\"], 22]), 100, 85.5, 12.4, \"Promise\", (\"11\", 90)]\n",
        "\n",
        "list3[3][1]"
      ],
      "execution_count": 15,
      "outputs": [
        {
          "output_type": "execute_result",
          "data": {
            "application/vnd.google.colaboratory.intrinsic+json": {
              "type": "string"
            },
            "text/plain": [
              "'Faith'"
            ]
          },
          "metadata": {},
          "execution_count": 15
        }
      ]
    },
    {
      "cell_type": "code",
      "metadata": {
        "colab": {
          "base_uri": "https://localhost:8080/",
          "height": 37
        },
        "id": "sPCK1R5k4bDW",
        "outputId": "cf6e8312-3df8-4e75-dc8f-7ce96f3fc31e"
      },
      "source": [
        "list3[3][2][1][0]"
      ],
      "execution_count": 16,
      "outputs": [
        {
          "output_type": "execute_result",
          "data": {
            "application/vnd.google.colaboratory.intrinsic+json": {
              "type": "string"
            },
            "text/plain": [
              "'Chinelo'"
            ]
          },
          "metadata": {},
          "execution_count": 16
        }
      ]
    },
    {
      "cell_type": "code",
      "metadata": {
        "colab": {
          "base_uri": "https://localhost:8080/"
        },
        "id": "CHO8dJaR5BG5",
        "outputId": "1c4e4fd0-be42-4bc0-dba7-7abae937fe9f"
      },
      "source": [
        "list3[5]"
      ],
      "execution_count": 17,
      "outputs": [
        {
          "output_type": "execute_result",
          "data": {
            "text/plain": [
              "85.5"
            ]
          },
          "metadata": {},
          "execution_count": 17
        }
      ]
    },
    {
      "cell_type": "code",
      "metadata": {
        "colab": {
          "base_uri": "https://localhost:8080/"
        },
        "id": "0Q7Qbi0W5L_4",
        "outputId": "c53778cb-2cd8-49bc-b120-b3b259683dac"
      },
      "source": [
        "list3[4]"
      ],
      "execution_count": 18,
      "outputs": [
        {
          "output_type": "execute_result",
          "data": {
            "text/plain": [
              "100"
            ]
          },
          "metadata": {},
          "execution_count": 18
        }
      ]
    },
    {
      "cell_type": "code",
      "metadata": {
        "colab": {
          "base_uri": "https://localhost:8080/"
        },
        "id": "ior_sKkA5Syh",
        "outputId": "0de0419f-8a2e-43c4-c867-ac0115a356b5"
      },
      "source": [
        "list3[8][1]"
      ],
      "execution_count": 19,
      "outputs": [
        {
          "output_type": "execute_result",
          "data": {
            "text/plain": [
              "90"
            ]
          },
          "metadata": {},
          "execution_count": 19
        }
      ]
    },
    {
      "cell_type": "code",
      "metadata": {
        "colab": {
          "base_uri": "https://localhost:8080/"
        },
        "id": "CB0qn8q75juA",
        "outputId": "2f774a8f-a186-45e2-dbf0-197c83e6e90c"
      },
      "source": [
        "type(list3[8][1])"
      ],
      "execution_count": 20,
      "outputs": [
        {
          "output_type": "execute_result",
          "data": {
            "text/plain": [
              "int"
            ]
          },
          "metadata": {},
          "execution_count": 20
        }
      ]
    },
    {
      "cell_type": "code",
      "metadata": {
        "colab": {
          "base_uri": "https://localhost:8080/"
        },
        "id": "97zPLh782-XO",
        "outputId": "ddc22bb0-e42e-4ccf-da25-95f31a230f37"
      },
      "source": [
        "result_assignment = list3[3][2][1][0] + \" couldn't score \" + str(list3[4]) + \"%, she got \"  +  str(list3[8][1]) + \"%, however,\" + list3[3][1] + \" is a close second with \" + str(list3[5] )+ \"%.\"\n",
        "print(result_assignment)"
      ],
      "execution_count": 22,
      "outputs": [
        {
          "output_type": "stream",
          "name": "stdout",
          "text": [
            "Chinelo couldn't score 100%, she got 90%, however,Faith is a close second with 85.5%.\n"
          ]
        }
      ]
    },
    {
      "cell_type": "markdown",
      "metadata": {
        "id": "dyCEoWRfvR4W"
      },
      "source": [
        "## 10.\n",
        "\n",
        "list4 = [\"Chima\", \"Ebuka\", \"Rose\", \"Hassan\", \"Bisi\"]\n",
        "\n",
        "Write a code that removes any of these names and replaces it with your name in that particular index"
      ]
    },
    {
      "cell_type": "code",
      "metadata": {
        "colab": {
          "base_uri": "https://localhost:8080/"
        },
        "id": "OVd87Qj9vA3Y",
        "outputId": "d741243e-037a-4bf9-f4c5-ea6d97139adf"
      },
      "source": [
        "list4 = [\"Chima\", \"Ebuka\", \"Rose\", \"Hassan\", \"Bisi\"]\n",
        "list4[0] = \"Chinelo\"\n",
        "print(list4)"
      ],
      "execution_count": 23,
      "outputs": [
        {
          "output_type": "stream",
          "name": "stdout",
          "text": [
            "['Chinelo', 'Ebuka', 'Rose', 'Hassan', 'Bisi']\n"
          ]
        }
      ]
    },
    {
      "cell_type": "markdown",
      "metadata": {
        "id": "_p_4knFivR4X"
      },
      "source": [
        "## 11. \n",
        "\n",
        "list4 = [\"Chima\", \"Ebuka\", \"Rose\", \"Hassan\", \"Bisi\"]\n",
        "\n",
        "Write a code that prints out the index positon of the name \"Rose\""
      ]
    },
    {
      "cell_type": "code",
      "metadata": {
        "colab": {
          "base_uri": "https://localhost:8080/"
        },
        "id": "fpz-zBsPvV0X",
        "outputId": "71277a7a-98df-483d-8a58-963be4c93029"
      },
      "source": [
        "list4 = [\"Chima\", \"Ebuka\", \"Rose\", \"Hassan\", \"Bisi\"]\n",
        "x = list4.index(\"Rose\")\n",
        "print(x)"
      ],
      "execution_count": 28,
      "outputs": [
        {
          "output_type": "stream",
          "name": "stdout",
          "text": [
            "2\n"
          ]
        }
      ]
    },
    {
      "cell_type": "markdown",
      "metadata": {
        "id": "QX8ZNhasvR4X"
      },
      "source": [
        "## 12. \n",
        "\n",
        "list4 = [\"Chima\", \"Ebuka\", \"Rose\", \"Hassan\", \"Bisi\"]\n",
        "\n",
        "Write a code that adds your name to this list of names"
      ]
    },
    {
      "cell_type": "code",
      "metadata": {
        "colab": {
          "base_uri": "https://localhost:8080/"
        },
        "id": "7Nnxmd9tv_EC",
        "outputId": "720f9f7c-fa2e-4628-88d8-54f25d8cc645"
      },
      "source": [
        "list4 = [\"Chima\", \"Ebuka\", \"Rose\", \"Hassan\", \"Bisi\"]\n",
        "list4.append(\"Chinelo\")\n",
        "print(list4)"
      ],
      "execution_count": 29,
      "outputs": [
        {
          "output_type": "stream",
          "name": "stdout",
          "text": [
            "['Chima', 'Ebuka', 'Rose', 'Hassan', 'Bisi', 'Chinelo']\n"
          ]
        }
      ]
    },
    {
      "cell_type": "markdown",
      "metadata": {
        "id": "qePDvjI7vR4Y"
      },
      "source": [
        "## 13.\n",
        "sets = {3, 1, 10, 4, 5, 6}\n",
        "\n",
        "Write a code that sorts this set in asceding order. Print the output, explain the out you got and why."
      ]
    },
    {
      "cell_type": "code",
      "metadata": {
        "colab": {
          "base_uri": "https://localhost:8080/"
        },
        "id": "amWips5QxDAT",
        "outputId": "bcd16553-a49a-4b39-872a-b6a6178acb67"
      },
      "source": [
        "sets = [{3, 1, 10, 4, 5, 6}]\n",
        "sets.sort()\n",
        "print(sets) #.sort() will not work on a set since it is unordered and immutable, so in order to use this function, ww will have to place the set ion a list."
      ],
      "execution_count": 5,
      "outputs": [
        {
          "output_type": "stream",
          "name": "stdout",
          "text": [
            "[{1, 3, 4, 5, 6, 10}]\n"
          ]
        }
      ]
    },
    {
      "cell_type": "code",
      "metadata": {
        "colab": {
          "base_uri": "https://localhost:8080/"
        },
        "id": "JRkup5NxFNhd",
        "outputId": "f0466665-47f9-4b7f-a219-d54906a1a9a3"
      },
      "source": [
        "sets = {3, 1, 10, 4, 5, 6}\n",
        "print(sets) # with this method, printing out a set automatically results in an ascending order of the members of the sets."
      ],
      "execution_count": 38,
      "outputs": [
        {
          "output_type": "stream",
          "name": "stdout",
          "text": [
            "{1, 3, 4, 5, 6, 10}\n"
          ]
        }
      ]
    },
    {
      "cell_type": "markdown",
      "metadata": {
        "id": "5ToOHZe6vR4Y"
      },
      "source": [
        "## 14.\n",
        "\n",
        "- set1 = {10, 20, 30, 40, 50}\n",
        "- set2 = {30, 40, 50, 60, 70}\n",
        "\n",
        "Write a code prints out a new set with all items from both sets by removing duplicates"
      ]
    },
    {
      "cell_type": "code",
      "metadata": {
        "colab": {
          "base_uri": "https://localhost:8080/"
        },
        "id": "HrjIvkg0xnDc",
        "outputId": "ed873ce4-2b38-427a-d664-73b246570c4f"
      },
      "source": [
        "set1 = {10, 20, 30, 40, 50}\n",
        "set2 = {30, 40, 50, 60, 70}\n",
        "\n",
        "set1.update(set2)\n",
        "print(set1)"
      ],
      "execution_count": 30,
      "outputs": [
        {
          "output_type": "stream",
          "name": "stdout",
          "text": [
            "{70, 40, 10, 50, 20, 60, 30}\n"
          ]
        }
      ]
    },
    {
      "cell_type": "markdown",
      "metadata": {
        "id": "cAqu-4M2vR4Z"
      },
      "source": [
        "## 15.\n",
        "\n",
        "- Create a string that is a long series of words separated by spaces. \n",
        "It can be names, cities, animals, anything. Just make it up yourself.\n",
        "- Turn the string into a list of words using split. \n",
        "- Delete two words from the list, but delete each one using a different kind of Python method. \n",
        "- Sort the list. \n",
        "- Add two new words to the list using two different kinds of Python operation used in adding items to a list. \n",
        "- Turn the list of words back into a single string using join. \n",
        "- Print the string.\n",
        "\n",
        "NB: Feel free to use Google to find out other ways to add and remove items from a list"
      ]
    },
    {
      "cell_type": "code",
      "metadata": {
        "colab": {
          "base_uri": "https://localhost:8080/"
        },
        "id": "JgXg-lZnEmbl",
        "outputId": "f70cb9a2-a9c5-4482-8b84-04313b213735"
      },
      "source": [
        "#1 Turning the string into a list of words using split\n",
        "cities = (\"Tokyo Seoul Jeju Island Bali Santorino Lagos Abuja  PH Accra  Kumasi Oslo AddisAbaba Toronto Calgary Victoria Ottawa\")\n",
        "print(cities.split())"
      ],
      "execution_count": 39,
      "outputs": [
        {
          "output_type": "stream",
          "name": "stdout",
          "text": [
            "['Tokyo', 'Seoul', 'Jeju', 'Island', 'Bali', 'Santorino', 'Lagos', 'Abuja', 'PH', 'Accra', 'Kumasi', 'Oslo', 'AddisAbaba', 'Toronto', 'Calgary', 'Victoria', 'Ottawa']\n"
          ]
        }
      ]
    },
    {
      "cell_type": "markdown",
      "metadata": {
        "id": "MlKaffxgvR4a"
      },
      "source": [
        ""
      ]
    },
    {
      "cell_type": "code",
      "metadata": {
        "colab": {
          "base_uri": "https://localhost:8080/"
        },
        "id": "PXsvRtvQJx0T",
        "outputId": "73d9f985-4027-4a50-92f2-3e7b0378948e"
      },
      "source": [
        "#2a Delete First Word (Lagos) using list.remove()\n",
        "cities = ['Tokyo', 'Seoul', 'Jeju', 'Island', 'Bali', 'Santorino', 'Lagos', 'Abuja', 'PH', 'Accra', 'Kumasi', 'Oslo', 'AddisAbaba', 'Toronto', 'Calgary', 'Victoria', 'Ottawa']\n",
        "cities.remove(\"Lagos\")\n",
        "print(cities)"
      ],
      "execution_count": 40,
      "outputs": [
        {
          "output_type": "stream",
          "name": "stdout",
          "text": [
            "['Tokyo', 'Seoul', 'Jeju', 'Island', 'Bali', 'Santorino', 'Abuja', 'PH', 'Accra', 'Kumasi', 'Oslo', 'AddisAbaba', 'Toronto', 'Calgary', 'Victoria', 'Ottawa']\n"
          ]
        }
      ]
    },
    {
      "cell_type": "code",
      "metadata": {
        "colab": {
          "base_uri": "https://localhost:8080/"
        },
        "id": "dv7F7TEaKGoP",
        "outputId": "001d58ea-6cca-41b6-d64f-ae87cff17380"
      },
      "source": [
        "#2b Delete Second Word (Santorino) using list.pop()\n",
        "cities.pop(5)\n",
        "print(cities)"
      ],
      "execution_count": 41,
      "outputs": [
        {
          "output_type": "stream",
          "name": "stdout",
          "text": [
            "['Tokyo', 'Seoul', 'Jeju', 'Island', 'Bali', 'Abuja', 'PH', 'Accra', 'Kumasi', 'Oslo', 'AddisAbaba', 'Toronto', 'Calgary', 'Victoria', 'Ottawa']\n"
          ]
        }
      ]
    },
    {
      "cell_type": "code",
      "metadata": {
        "colab": {
          "base_uri": "https://localhost:8080/"
        },
        "id": "wdE4kNhFK6ae",
        "outputId": "9ab94943-2b2a-4cac-bc80-81ee23503e52"
      },
      "source": [
        "#3 Sort List\n",
        "cities.sort()\n",
        "print(cities)"
      ],
      "execution_count": 42,
      "outputs": [
        {
          "output_type": "stream",
          "name": "stdout",
          "text": [
            "['Abuja', 'Accra', 'AddisAbaba', 'Bali', 'Calgary', 'Island', 'Jeju', 'Kumasi', 'Oslo', 'Ottawa', 'PH', 'Seoul', 'Tokyo', 'Toronto', 'Victoria']\n"
          ]
        }
      ]
    },
    {
      "cell_type": "code",
      "metadata": {
        "colab": {
          "base_uri": "https://localhost:8080/"
        },
        "id": "JXeHsriBOHhd",
        "outputId": "97eba588-72a1-490c-9f1a-4ffb342f73b8"
      },
      "source": [
        "#4 Adding to First Word (Busan) list using list.append()\n",
        "cities.append(\"Busan\")\n",
        "print(cities)"
      ],
      "execution_count": 43,
      "outputs": [
        {
          "output_type": "stream",
          "name": "stdout",
          "text": [
            "['Abuja', 'Accra', 'AddisAbaba', 'Bali', 'Calgary', 'Island', 'Jeju', 'Kumasi', 'Oslo', 'Ottawa', 'PH', 'Seoul', 'Tokyo', 'Toronto', 'Victoria', 'Busan']\n"
          ]
        }
      ]
    },
    {
      "cell_type": "code",
      "metadata": {
        "colab": {
          "base_uri": "https://localhost:8080/"
        },
        "id": "1wHd6NEJOvll",
        "outputId": "c0c41c5d-d90b-439b-bee1-f1656d672839"
      },
      "source": [
        "cities.insert(5, \"Grand Bend\")\n",
        "print(cities)"
      ],
      "execution_count": 44,
      "outputs": [
        {
          "output_type": "stream",
          "name": "stdout",
          "text": [
            "['Abuja', 'Accra', 'AddisAbaba', 'Bali', 'Calgary', 'Grand Bend', 'Island', 'Jeju', 'Kumasi', 'Oslo', 'Ottawa', 'PH', 'Seoul', 'Tokyo', 'Toronto', 'Victoria', 'Busan']\n"
          ]
        }
      ]
    },
    {
      "cell_type": "code",
      "metadata": {
        "colab": {
          "base_uri": "https://localhost:8080/"
        },
        "id": "PF1XiQceQR2H",
        "outputId": "1ec4755b-a3cc-48b2-a012-6bbd78b8310e"
      },
      "source": [
        "cities_string = ' ' .join(cities)\n",
        "print(cities_string)"
      ],
      "execution_count": 45,
      "outputs": [
        {
          "output_type": "stream",
          "name": "stdout",
          "text": [
            "Abuja Accra AddisAbaba Bali Calgary Grand Bend Island Jeju Kumasi Oslo Ottawa PH Seoul Tokyo Toronto Victoria Busan\n"
          ]
        }
      ]
    }
  ]
}