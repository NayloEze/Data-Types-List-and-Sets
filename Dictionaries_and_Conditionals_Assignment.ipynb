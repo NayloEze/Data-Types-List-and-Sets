{
  "nbformat": 4,
  "nbformat_minor": 0,
  "metadata": {
    "kernelspec": {
      "display_name": "Python 3",
      "language": "python",
      "name": "python3"
    },
    "language_info": {
      "codemirror_mode": {
        "name": "ipython",
        "version": 3
      },
      "file_extension": ".py",
      "mimetype": "text/x-python",
      "name": "python",
      "nbconvert_exporter": "python",
      "pygments_lexer": "ipython3",
      "version": "3.8.5"
    },
    "colab": {
      "name": "Dictionaries and Conditionals Assignment.ipynb",
      "provenance": [],
      "collapsed_sections": [],
      "include_colab_link": true
    }
  },
  "cells": [
    {
      "cell_type": "markdown",
      "metadata": {
        "id": "view-in-github",
        "colab_type": "text"
      },
      "source": [
        "<a href=\"https://colab.research.google.com/github/NayloEze/Data-Types-List-and-Sets/blob/main/Dictionaries_and_Conditionals_Assignment.ipynb\" target=\"_parent\"><img src=\"https://colab.research.google.com/assets/colab-badge.svg\" alt=\"Open In Colab\"/></a>"
      ]
    },
    {
      "cell_type": "markdown",
      "metadata": {
        "id": "M6bIrBVYELyf"
      },
      "source": [
        "## 1.\n",
        "\n",
        "A triangle can be classified based on the lengths of its sides as equilateral, isosceles or\n",
        "scalene. All three sides of an equilateral triangle have the same length. An isosceles\n",
        "triangle has two sides that are the same length, and a third side that is a different\n",
        "length. If all of the sides have different lengths then the triangle is scalene.\n",
        "Write a program that reads the lengths of the three sides of a triangle from the\n",
        "user. Then display a message that states the triangle’s type."
      ]
    },
    {
      "cell_type": "code",
      "metadata": {
        "colab": {
          "base_uri": "https://localhost:8080/"
        },
        "id": "Zp4MBuOZ00ZS",
        "outputId": "9e57ed5d-a0e5-4107-c282-c51c66ef7708"
      },
      "source": [
        "a = int(input(\"Enter the length of side a: \"))\n",
        "b = int(input(\"Enter the length of side b: \"))\n",
        "c = int(input(\"Enter the length of side c: \"))\n",
        "\n",
        "if a == b and b == c:\n",
        "  print(\"Equilateral Triangle\")\n",
        "\n",
        "elif a == b or b == c or c == a:\n",
        "  print(\"Isosceles Triangle\")\n",
        "\n",
        "else:\n",
        "  print(\"Scalene Triangle\")\n"
      ],
      "execution_count": 10,
      "outputs": [
        {
          "output_type": "stream",
          "name": "stdout",
          "text": [
            "Enter the length of side a: 5\n",
            "Enter the length of side b: 4\n",
            "Enter the length of side c: 3\n",
            "Scalene Triangle\n"
          ]
        }
      ]
    },
    {
      "cell_type": "markdown",
      "metadata": {
        "id": "mlUURD3JELys"
      },
      "source": [
        "## 2.\n",
        "\n",
        "Create a dictionary, then write a code to check whether a given key already exists in the dictionary"
      ]
    },
    {
      "cell_type": "code",
      "metadata": {
        "colab": {
          "base_uri": "https://localhost:8080/"
        },
        "id": "BTjxj0PfmqvR",
        "outputId": "81840f77-b6a8-49f5-bfc7-fdcb0f856bca"
      },
      "source": [
        "favourites = {\"phone\" : \"iPhone\", \"tv\": \"Samsung\", \"watch\" : \"fitbit\", \"laptop\" : \"acer\" }\n",
        "if \"watch\"  in favourites:\n",
        "   print(\"My favourite health tracking watch is a fitbit\")"
      ],
      "execution_count": 11,
      "outputs": [
        {
          "output_type": "stream",
          "name": "stdout",
          "text": [
            "My favourite health tracking watch is a fitbit\n"
          ]
        }
      ]
    },
    {
      "cell_type": "markdown",
      "metadata": {
        "id": "SflQ8MiZELyt"
      },
      "source": [
        "## 3.\n",
        "\n",
        "Create a dictionary, then write a Python program to remove a key from the dictionary. "
      ]
    },
    {
      "cell_type": "code",
      "metadata": {
        "colab": {
          "base_uri": "https://localhost:8080/"
        },
        "id": "snsZWOEJoPey",
        "outputId": "9a1384c3-66a4-46f7-bb96-466a163c381b"
      },
      "source": [
        "kdramas = {\"First ever\" : \"BOF\",\"Most Watched\" : \"Kill Me Heal Me\",\"Last Seen\" : \"Lovers in the Red Sky\"}\n",
        "kdramas.pop(\"First ever\")\n",
        "print(kdramas)"
      ],
      "execution_count": 12,
      "outputs": [
        {
          "output_type": "stream",
          "name": "stdout",
          "text": [
            "{'Most Watched': 'Kill Me Heal Me', 'Last Seen': 'Lovers in the Red Sky'}\n"
          ]
        }
      ]
    },
    {
      "cell_type": "markdown",
      "metadata": {
        "id": "zZUJgmbbELyt"
      },
      "source": [
        "## 4.\n",
        "\n",
        "Create a dictionary that contains Name, Location, Gender, Age as keys, then write a code that changes \"Location\" to \"City\"."
      ]
    },
    {
      "cell_type": "code",
      "metadata": {
        "id": "trlrFuWXvYpI"
      },
      "source": [
        "about_naylo = {\"name\" : \"Chinelo\", \n",
        "               \"location\" : \"Canada\",\n",
        "               \"gender\" : \"Female \",\n",
        "               \"age\" : 35 }"
      ],
      "execution_count": 28,
      "outputs": []
    },
    {
      "cell_type": "code",
      "metadata": {
        "colab": {
          "base_uri": "https://localhost:8080/"
        },
        "id": "4Ipijg7xva3N",
        "outputId": "25b7d563-3909-4c89-b96d-56bff10c081a"
      },
      "source": [
        "new_key = \"city\"\n",
        "old_key = \"location\"\n",
        "about_naylo[new_key] = about_naylo.pop(old_key)\n",
        "\n",
        "print(about_naylo)"
      ],
      "execution_count": 29,
      "outputs": [
        {
          "output_type": "stream",
          "name": "stdout",
          "text": [
            "{'name': 'Chinelo', 'gender': 'Female ', 'age': 35, 'city': 'Canada'}\n"
          ]
        }
      ]
    },
    {
      "cell_type": "code",
      "metadata": {
        "colab": {
          "base_uri": "https://localhost:8080/"
        },
        "id": "sB_DicqhTEdo",
        "outputId": "a57b7993-1584-440d-cc34-767eb95168a9"
      },
      "source": [
        "about_naylo = {\"name\" : \"Chinelo\", \n",
        "               \"location\" : \"Canada\",\n",
        "               \"gender\" : \"Female \",\n",
        "               \"age\" : 35 }\n",
        "\n",
        "\n",
        "x = about_naylo.pop(\"location\")\n",
        "print(\"city:\", x) \n",
        "print(about_naylo)"
      ],
      "execution_count": 31,
      "outputs": [
        {
          "output_type": "stream",
          "name": "stdout",
          "text": [
            "city: Canada\n",
            "{'name': 'Chinelo', 'gender': 'Female ', 'age': 35}\n"
          ]
        }
      ]
    },
    {
      "cell_type": "markdown",
      "metadata": {
        "id": "hmbq0_3yELyt"
      },
      "source": [
        "## 5.\n",
        "\n",
        "details = {\n",
        "     'person1': {'name': 'Chioma', 'salary': 7500, 'age': 22},\n",
        "     'person2': {'name': 'Tosin', 'salary': 8000, 'age': 25},\n",
        "     'person3': {'name': 'Promise', 'salary': 6500, 'age': 28}\n",
        "}\n",
        "\n",
        "Write a code that changes Tosin's salary to 9000"
      ]
    },
    {
      "cell_type": "code",
      "metadata": {
        "colab": {
          "base_uri": "https://localhost:8080/"
        },
        "id": "QQThFXzkwFXR",
        "outputId": "638a5b86-7cac-4377-db13-bcc9513e5b3f"
      },
      "source": [
        "details = { 'person1': {'name': 'Chioma', 'salary': 7500, 'age': 22}, 'person2': {'name': 'Tosin', 'salary': 8000, 'age': 25}, 'person3': {'name': 'Promise', 'salary': 6500, 'age': 28} }\n",
        "details[\"person2\"][\"salary\"] = 9000\n",
        "\n",
        "print(details)"
      ],
      "execution_count": 16,
      "outputs": [
        {
          "output_type": "stream",
          "name": "stdout",
          "text": [
            "{'person1': {'name': 'Chioma', 'salary': 7500, 'age': 22}, 'person2': {'name': 'Tosin', 'salary': 9000, 'age': 25}, 'person3': {'name': 'Promise', 'salary': 6500, 'age': 28}}\n"
          ]
        }
      ]
    },
    {
      "cell_type": "markdown",
      "metadata": {
        "id": "FnN04SsfELyu"
      },
      "source": [
        "## 6.\n",
        "\n",
        "A month can last between 28 to 31 days. Write a code that reads the name of a month as a string from the user. The number of days in that month should then be shown by your output. Display \"28 or 29 days\" for February to account for leap years."
      ]
    },
    {
      "cell_type": "code",
      "metadata": {
        "colab": {
          "base_uri": "https://localhost:8080/"
        },
        "id": "uMzzv91HIHH6",
        "outputId": "783be61f-ccb1-4a85-a499-cee83d34cc93"
      },
      "source": [
        "month  = input(\"Enter Month: \")\n",
        "if month == \"January\":\n",
        " print(\"31 days\")\n",
        "if month == \"Febuary\":\n",
        " print(\"28 or 29 days\")\n",
        "if month == \"March\":\n",
        " print(\"31 days\")\n",
        "if month == \"April\":\n",
        " print(\"30 days\")\n",
        "if month == \"May\":\n",
        " print(\"31 days\")\n",
        "if month == \"June\":\n",
        " print(\"30 days\")\n",
        "if month == \"July\":\n",
        " print(\"31 days\")\n",
        "if month == \"August\":\n",
        " print(\"31 days\")\n",
        "if month == \"September\":\n",
        " print(\"30 days\")\n",
        "if month == \"October\":\n",
        " print(\"31 days\")\n",
        "if month == \"November\":\n",
        " print(\"30 days\")\n",
        "if month == \"December\":\n",
        " print(\"31 days\")\n"
      ],
      "execution_count": 18,
      "outputs": [
        {
          "output_type": "stream",
          "name": "stdout",
          "text": [
            "Enter Month: June\n",
            "30 days\n"
          ]
        }
      ]
    },
    {
      "cell_type": "markdown",
      "metadata": {
        "id": "9DOkKGEj_UZe"
      },
      "source": [
        "7.\n",
        "Write an if statement that asks for the user's name via input() function. If the name is \"James\" make it print \"Welcome on board, James.\" Otherwise make it print an appropriate error message of your choice.\n",
        "\n",
        "Make sure you use the string formatting method."
      ]
    },
    {
      "cell_type": "code",
      "metadata": {
        "colab": {
          "base_uri": "https://localhost:8080/"
        },
        "id": "XWwLRikTXf_0",
        "outputId": "34fa29ed-eace-4048-9dcb-6b45238f0c41"
      },
      "source": [
        "name = input(\"Enter Name: \")\n",
        "\n",
        "if name == \"James\":\n",
        "  print(\"Welcome on board, {}.\".format(name))\n",
        "else:\n",
        "  print(\"Not you {}. \".format(name))\n",
        "\n"
      ],
      "execution_count": 19,
      "outputs": [
        {
          "output_type": "stream",
          "name": "stdout",
          "text": [
            "Enter Name: James\n",
            "Welcome on board, James.\n"
          ]
        }
      ]
    },
    {
      "cell_type": "markdown",
      "metadata": {
        "id": "zeGrzmuaELyu"
      },
      "source": [
        "## 8. \n",
        "\n",
        "Write a code that prompts the user to input a number, and then returns \"True\" if number is divisible by 3, and \"False\" if otherwise."
      ]
    },
    {
      "cell_type": "code",
      "metadata": {
        "colab": {
          "base_uri": "https://localhost:8080/"
        },
        "id": "MVe4NQ4TThjJ",
        "outputId": "8e81f817-909b-47d0-e27e-8c4d1707abee"
      },
      "source": [
        "num_3 = int(input(\"Enter a number: \"))\n",
        "\n",
        "if num_3 % 3 == 0:\n",
        "  print(\"True\")\n",
        "else:\n",
        "  print(\"False\")"
      ],
      "execution_count": 20,
      "outputs": [
        {
          "output_type": "stream",
          "name": "stdout",
          "text": [
            "Enter a number: 7\n",
            "False\n"
          ]
        }
      ]
    },
    {
      "cell_type": "markdown",
      "metadata": {
        "id": "cmATXWBZNz7e"
      },
      "source": [
        "9.\n",
        "A school has following rules for grading system:\n",
        "\n",
        "Below 40 - F\n",
        "41 to 45 - E\n",
        "45 to 49 - D\n",
        "50 to 60 - C\n",
        "60 to 69 - B\n",
        "70 and above - A\n",
        "Write a code that asks the user to enter his mark and then prints out the corresponding grade.\n",
        "\n"
      ]
    },
    {
      "cell_type": "code",
      "metadata": {
        "colab": {
          "base_uri": "https://localhost:8080/"
        },
        "id": "44EyzI11IaTa",
        "outputId": "0127d78a-d8a5-4327-b469-c8acce84ac76"
      },
      "source": [
        "grade = int(input(\"Enter Grade: \"))\n",
        "\n",
        "if grade >= 70:\n",
        " print(\"A\")\n",
        "elif grade >= 60:\n",
        "  print(\"B\")\n",
        "elif grade >= 50:\n",
        "  print(\"C\")\n",
        "elif grade >= 45:\n",
        "  print(\"D\")\n",
        "elif grade >= 40:\n",
        "  print(\"E\")\n",
        "else:\n",
        "  print(\"F\")"
      ],
      "execution_count": 25,
      "outputs": [
        {
          "output_type": "stream",
          "name": "stdout",
          "text": [
            "Enter Grade: 99\n",
            "A\n"
          ]
        }
      ]
    },
    {
      "cell_type": "markdown",
      "metadata": {
        "id": "_tyD_nQoELyw"
      },
      "source": [
        "## 10. \n",
        "\n",
        "A company decided to give bonus of 5% to employee if his/her year of service is more than 5 years.\n",
        "Write a code that asks the user to input their salary and years of service and then prints the net bonus amount.\n",
        "\n",
        "Use string format method"
      ]
    },
    {
      "cell_type": "code",
      "metadata": {
        "id": "9RQ83ycaELyx",
        "colab": {
          "base_uri": "https://localhost:8080/"
        },
        "outputId": "4d91e465-3466-40e9-9f8e-dcc98e95190f"
      },
      "source": [
        "salary = int(input(\"Enter Salary: \"))\n",
        "service_years = int(input(\"Enter Years of Service: \"))\n",
        "\n",
        "net_bonus = salary + (0.05 * salary)\n",
        "if service_years >= 5:\n",
        "  print(\"Your Net Bonus is {} \".format(net_bonus))\n",
        "else:\n",
        "  print(\"You do not qualify because your years of service is less than 5.\")\n"
      ],
      "execution_count": 32,
      "outputs": [
        {
          "output_type": "stream",
          "name": "stdout",
          "text": [
            "Enter Salary: 10000\n",
            "Enter Years of Service: 5\n",
            "Your Net Bonus is 10500.0 \n"
          ]
        }
      ]
    }
  ]
}