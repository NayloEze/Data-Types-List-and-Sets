{
  "nbformat": 4,
  "nbformat_minor": 0,
  "metadata": {
    "colab": {
      "name": "functions-n-oop.ipynb",
      "provenance": [],
      "collapsed_sections": [],
      "include_colab_link": true
    },
    "kernelspec": {
      "display_name": "Python 3",
      "name": "python3"
    },
    "language_info": {
      "name": "python"
    }
  },
  "cells": [
    {
      "cell_type": "markdown",
      "metadata": {
        "id": "view-in-github",
        "colab_type": "text"
      },
      "source": [
        "<a href=\"https://colab.research.google.com/github/NayloEze/Data-Types-List-and-Sets/blob/main/functions_n_oop.ipynb\" target=\"_parent\"><img src=\"https://colab.research.google.com/assets/colab-badge.svg\" alt=\"Open In Colab\"/></a>"
      ]
    },
    {
      "cell_type": "markdown",
      "metadata": {
        "id": "lLxPEaU-gaeg"
      },
      "source": [
        "## 1. \n",
        "\n",
        "Write a program that reads words from the user until the user enters a blank line. \n",
        "\n",
        "After the user enters a blank line your program should display each word entered by the user exactly once. \n",
        "\n",
        "The words should be displayed in the same order that they were first entered. \n",
        "\n",
        "For example, if the user enters:\n",
        "\n",
        "- chioma\n",
        "- naylo\n",
        "- chioma\n",
        "- uju\n",
        "- naylo\n",
        "\n",
        "\n",
        "then your program should display:\n",
        "\n",
        "- chioma\n",
        "- naylo\n",
        "- uju"
      ]
    },
    {
      "cell_type": "code",
      "metadata": {
        "colab": {
          "base_uri": "https://localhost:8080/"
        },
        "id": "V5BZMlyTDjfx",
        "outputId": "63fe8c1f-4e4f-4948-8e9a-90d71f4e33c5"
      },
      "source": [
        "vacay_cities = [] #An empty list that will list User's favourite vacation cities.\n",
        "print(\"Enter Favourite Vacation Cities: \") #Top title of the list \n",
        "\n",
        "while True:\n",
        "  cities = input(\"What is your favourite city? : \") # Here users will input thier favourite list\n",
        "  if cities: \n",
        "    vacay_cities.append(cities) #if users put names of cities, it will add to the vacay_list \n",
        "\n",
        "  else:\n",
        "    print(\"No More Values Entered\")  \n",
        "    break # When user enters a blank line, execution stops and the above print command is printed \n",
        "\n",
        "print(vacay_cities) #not quite necessary but is needed to see what was appended to the vacay_cities list.\n",
        "\n",
        "\n",
        "top_fave = [] #empty list to extract cities as entered by the users\n",
        "for cities in vacay_cities: #command to loop through the elements(cities) of the vacy_cities\n",
        "  if cities not in top_fave:\n",
        "    top_fave.append(cities) #append cities present in vacay_cities but not in top_fave to top_fave\n",
        "   \n",
        "    \n",
        "for i in top_fave: #command to loop through elements in top_fave\n",
        "  print(i)\n"
      ],
      "execution_count": 57,
      "outputs": [
        {
          "output_type": "stream",
          "name": "stdout",
          "text": [
            "Enter Favourite Vacation Cities: \n",
            "What is your favourite city? : Bali\n",
            "What is your favourite city? : Bora Bora\n",
            "What is your favourite city? : Neice\n",
            "What is your favourite city? : Las Vegad\n",
            "What is your favourite city? : DC\n",
            "What is your favourite city? : Seoul\n",
            "What is your favourite city? : Jeju Island\n",
            "What is your favourite city? : Seoul\n",
            "What is your favourite city? : \n",
            "No More Values Entered\n",
            "['Bali', 'Bora Bora', 'Neice', 'Las Vegad', 'DC', 'Seoul', 'Jeju Island', 'Seoul']\n",
            "Bali\n",
            "Bora Bora\n",
            "Neice\n",
            "Las Vegad\n",
            "DC\n",
            "Seoul\n",
            "Jeju Island\n"
          ]
        }
      ]
    },
    {
      "cell_type": "markdown",
      "metadata": {
        "id": "WQRa9gICgdpp"
      },
      "source": [
        "## 2. \n",
        "An online vendor provides express shipping for many of its items at a rate of $ 10.95 for the first item in an order, and $2.95 for each subsequent item in the same order.\n",
        "\n",
        "Write a function that takes the number of items in the order as its only parameter.\n",
        "\n",
        "Return the shipping charge for the order as the function’s result. \n",
        "\n",
        "Include a main program that reads the number of items purchased from the user and displays the\n",
        "shipping charge."
      ]
    },
    {
      "cell_type": "code",
      "metadata": {
        "colab": {
          "base_uri": "https://localhost:8080/"
        },
        "id": "aQ-ddyTMPK7S",
        "outputId": "7147ea48-de38-4c28-a35a-95f3254cb1ff"
      },
      "source": [
        "def shipping_charge(n):  #where n is the number of orders and is the only parameter\n",
        "\n",
        "    n = int(input(\"Enter Number of items ordered: \"))  #Users will input the numbers of items ordered to obtain shipping charges\n",
        "   \n",
        "    if n == 1:\n",
        "         return n * 10.95\n",
        "    else:\n",
        "      return n * 2.95 #Here, the program specifies that where number of item is 1, shipping will cost $10.95 else the charge of $2.95 applies on subsequent orders.\n",
        " \n",
        "\n",
        "\n",
        "print(\"Your total charge for items ordered is  : $\" \"%.2f\" % shipping_charge(3))"
      ],
      "execution_count": 16,
      "outputs": [
        {
          "output_type": "stream",
          "name": "stdout",
          "text": [
            "Enter Number of items ordered: 5\n",
            "Your total charge for items ordered is  : $14.75\n"
          ]
        }
      ]
    },
    {
      "cell_type": "markdown",
      "metadata": {
        "id": "PruN-DqPghnJ"
      },
      "source": [
        "## 3. \n",
        "\n",
        "What concept is referred to as self-created data type?\n",
        "Objects also referred to as a self -created data type which have attributes and methods. It uses the self parameter which connects the object to its attributes "
      ]
    },
    {
      "cell_type": "markdown",
      "metadata": {
        "id": "QetToisQgmyS"
      },
      "source": [
        "## 4. \n",
        "\n",
        "Look at the code snippet attached, what is the reason for the error? Re-write the  code to give the right output."
      ]
    },
    {
      "cell_type": "code",
      "metadata": {
        "id": "ezKoBNfNoUEJ",
        "colab": {
          "base_uri": "https://localhost:8080/",
          "height": 267
        },
        "outputId": "bae2dfc2-408f-49ce-9fc3-0f65b338b385"
      },
      "source": [
        " class country:\n",
        "  def __init__(self, location, population, landmass, government):\n",
        "    self.location = location\n",
        "    self.population = population\n",
        "    self.landmass = landmass\n",
        "    self.government = government\n",
        " \n",
        "  \n",
        "\n",
        "  def info():\n",
        "      print(\"Zamunda is located at  \" + self.location + \" with total population of  \" + self.population + \" and landmass of \" + landmass + \" with \" + government + \" as type of government \")\n",
        "\n",
        "Z = country(\"Wakanda\", 500,000, 200,800, \"monarchy\")\n",
        "\n",
        "#Reason for error\n",
        "#1. There was no connection between self and the atrributes : landmass and government.\n",
        "#2. Attributes: population and landmass were in integer form, therefore the print statement will not work as strings and integers cannnot concatenate.\n",
        "#3. In the instantiating code - the integers values will had comma's in it,therefore causing an error even after converting it to a string. The reason was python saw 500,000 as two arguments instead of one, thereby causing the number of argumnets to be seven instead of five.\n",
        "\n",
        "print(Z)"
      ],
      "execution_count": 4,
      "outputs": [
        {
          "output_type": "error",
          "ename": "TypeError",
          "evalue": "ignored",
          "traceback": [
            "\u001b[0;31m---------------------------------------------------------------------------\u001b[0m",
            "\u001b[0;31mTypeError\u001b[0m                                 Traceback (most recent call last)",
            "\u001b[0;32m<ipython-input-4-ceeecb770f10>\u001b[0m in \u001b[0;36m<module>\u001b[0;34m()\u001b[0m\n\u001b[1;32m     11\u001b[0m      \u001b[0mprint\u001b[0m\u001b[0;34m(\u001b[0m\u001b[0;34m\"Zamunda is located at  \"\u001b[0m \u001b[0;34m+\u001b[0m \u001b[0mself\u001b[0m\u001b[0;34m.\u001b[0m\u001b[0mlocation\u001b[0m \u001b[0;34m+\u001b[0m \u001b[0;34m\" with total population of  \"\u001b[0m \u001b[0;34m+\u001b[0m \u001b[0mself\u001b[0m\u001b[0;34m.\u001b[0m\u001b[0mpopulation\u001b[0m \u001b[0;34m+\u001b[0m \u001b[0;34m\" and landmass of \"\u001b[0m \u001b[0;34m+\u001b[0m \u001b[0mlandmass\u001b[0m \u001b[0;34m+\u001b[0m \u001b[0;34m\" with \"\u001b[0m \u001b[0;34m+\u001b[0m \u001b[0mgovernment\u001b[0m \u001b[0;34m+\u001b[0m \u001b[0;34m\" as type of government \"\u001b[0m\u001b[0;34m)\u001b[0m\u001b[0;34m\u001b[0m\u001b[0;34m\u001b[0m\u001b[0m\n\u001b[1;32m     12\u001b[0m \u001b[0;34m\u001b[0m\u001b[0m\n\u001b[0;32m---> 13\u001b[0;31m \u001b[0mZ\u001b[0m \u001b[0;34m=\u001b[0m \u001b[0mcountry\u001b[0m\u001b[0;34m(\u001b[0m\u001b[0;34m\"Wakanda\"\u001b[0m\u001b[0;34m,\u001b[0m \u001b[0;36m500\u001b[0m\u001b[0;34m,\u001b[0m\u001b[0;36m000\u001b[0m\u001b[0;34m,\u001b[0m \u001b[0;36m200\u001b[0m\u001b[0;34m,\u001b[0m\u001b[0;36m800\u001b[0m\u001b[0;34m,\u001b[0m \u001b[0;34m\"monarchy\"\u001b[0m\u001b[0;34m)\u001b[0m\u001b[0;34m\u001b[0m\u001b[0;34m\u001b[0m\u001b[0m\n\u001b[0m\u001b[1;32m     14\u001b[0m \u001b[0;34m\u001b[0m\u001b[0m\n\u001b[1;32m     15\u001b[0m \u001b[0;34m\u001b[0m\u001b[0m\n",
            "\u001b[0;31mTypeError\u001b[0m: __init__() takes 5 positional arguments but 7 were given"
          ]
        }
      ]
    },
    {
      "cell_type": "code",
      "metadata": {
        "colab": {
          "base_uri": "https://localhost:8080/"
        },
        "id": "xtVRs30LIihF",
        "outputId": "7955357a-1325-4467-ba00-18e75bc3f97f"
      },
      "source": [
        "class country:\n",
        "  def __init__(self, location, population, landmass, government):\n",
        "    self.location = location\n",
        "    self.population = population\n",
        "    self.landmass = landmass\n",
        "    self.government = government\n",
        " \n",
        "  \n",
        "  def info(self):\n",
        "     print(\"Zamunda is located at  \" + self.location + \" with total population of  \" + str(self.population) + \" and landmass of \" + str(self.landmass)+ \" with \" + self.government + \" as type of government \")\n",
        "\n",
        "Z = country(\"Wakanda\", 500000, 200800, \"monarchy\")\n",
        "\n",
        "\n",
        "Z.info()"
      ],
      "execution_count": 2,
      "outputs": [
        {
          "output_type": "stream",
          "name": "stdout",
          "text": [
            "Zamunda is located at  Wakanda with total population of  500000 and landmass of 200800 with monarchy as type of government \n"
          ]
        }
      ]
    },
    {
      "cell_type": "markdown",
      "metadata": {
        "id": "AKZ5l_hQgr_K"
      },
      "source": [
        "## 5. \n",
        "\n",
        "Create an animal object with attributes, print out a sentence describing the animal with your attributes."
      ]
    },
    {
      "cell_type": "code",
      "metadata": {
        "colab": {
          "base_uri": "https://localhost:8080/"
        },
        "id": "96KyuFrt6q9T",
        "outputId": "a18e9e8a-5706-4b9a-f0e1-4571598e7808"
      },
      "source": [
        "#Creating a class with an object\n",
        "\n",
        "class Dog: #Object name is Dog\n",
        "  \n",
        "  def __init__ (self,name,colour,age): #defining the function,self represents the dog in thisfunction and the word in bracket are its attributes\n",
        "    self.name = name\n",
        "    self.colour = colour\n",
        "    self.age = age #here, \"self\" connects the attributes to the object\n",
        "\n",
        "\n",
        "  def Doginfo(self):\n",
        "\n",
        "    print(\"I have a dog, his name is \"+ self.name + \", he is quite huge and very \" + self.colour + \", such a cutie, he is only just \" + str(self.age) + \" years old.\") #using the dot notation to connect the attributes to thebvariable \n",
        " \n",
        " #initializing\n",
        "\n",
        "my_dog = Dog (\"Jack\", \"black\", 2) #storing attributes in the variable my_dog\n",
        "my_dog.Doginfo()\n"
      ],
      "execution_count": 32,
      "outputs": [
        {
          "output_type": "stream",
          "name": "stdout",
          "text": [
            "I have a dog, his name is Jack, he is quite huge and very black, such a cutie, he is only just 2 years old.\n"
          ]
        }
      ]
    },
    {
      "cell_type": "markdown",
      "metadata": {
        "id": "Bs_jfclJdoUY"
      },
      "source": [
        "## 6\n",
        "\n",
        "Wrtie a function that takes in two parametrs (two strings).\n",
        "\n",
        "The first parameter should be a word and second should be a letter. \n",
        "\n",
        "The function returns the number of times that letter appears in the word. \n",
        "\n",
        "The function should be case insensitive (does not matter if the input is lowercase or uppercase). \n",
        "\n",
        "If the letter is not found in the word, the function should return 0."
      ]
    },
    {
      "cell_type": "code",
      "metadata": {
        "colab": {
          "base_uri": "https://localhost:8080/"
        },
        "id": "Foe1-eWBfUxb",
        "outputId": "6e9441b5-4013-4946-a414-34a699f80e91"
      },
      "source": [
        "def find (a,b):\n",
        "   x = a.upper().count(b.upper()) #This will convert a and b to Uppercase\n",
        "   return x\n",
        "find(\"MissiSSauga\", \"c\") #Function will return how many \"P\"s are in the word \"Apple\"\n",
        "\n",
        "\n",
        "#print(\"There are {} instances of {} in {}\".format(x, b, a)) - commented this out as I kept getting an error."
      ],
      "execution_count": 9,
      "outputs": [
        {
          "output_type": "execute_result",
          "data": {
            "text/plain": [
              "0"
            ]
          },
          "metadata": {},
          "execution_count": 9
        }
      ]
    },
    {
      "cell_type": "markdown",
      "metadata": {
        "id": "6NE8IhCddoUZ"
      },
      "source": [
        "## 7\n",
        "\n",
        "When analysing data collected as part of an experiment it may be desirable to remove the most extreme values before performing other calculations. \n",
        "\n",
        "Write a function that takes a list of values and an non-negative integer, n, as its parameters.\n",
        "\n",
        "The function should create a new copy of the list with the n largest elements and the n smallest elements removed. \n",
        "\n",
        "Then it should return the new copy of the list as the function’s only result. \n",
        "\n",
        "The order of the elements in the returned list does not have to match the order of the elements in the original list.\n",
        "\n",
        "Write a main program that demonstrates your function. \n",
        "\n",
        "It should read a list of numbers from the user and remove the two largest and two smallest values from it by calling the function described previously. \n",
        "\n",
        "Display the list with the outliers removed, followed by the original list. \n",
        "\n",
        "Your program should generate an appropriate error message if the user enters less than 4 values."
      ]
    },
    {
      "cell_type": "code",
      "metadata": {
        "colab": {
          "base_uri": "https://localhost:8080/"
        },
        "id": "erZt0NvVlt5S",
        "outputId": "797e8671-6389-4cb8-83f0-bd4494461751"
      },
      "source": [
        "def largest(a_list, n):\n",
        "    b_list = [] #list with removed n largest items\n",
        "    for i in range(0,n):\n",
        "          \n",
        "            b_list.append(max(a_list)) #append max of list in a new list\n",
        "            a_list.remove(max(a_list))#remove max of list from the list\n",
        "          \n",
        "def small(a_list, n):\n",
        "    c_list = [] # list with removed n smallest items\n",
        "    for i in range(0,n):\n",
        "          \n",
        "            c_list.append(min(a_list)) #append min of list in a new list\n",
        "            a_list.remove(min(a_list))#remove min of list from the list\n",
        "    \n",
        "\n",
        "\n",
        "               \n",
        "          \n",
        "a_list = [4,5,6,7,8,9, 20, 25, 3, 2, 14]\n",
        "n = 2\n",
        "largest(a_list, n)\n",
        "small(a_list, n)#calling function for the list in a_list\n",
        "print(a_list)"
      ],
      "execution_count": 47,
      "outputs": [
        {
          "output_type": "stream",
          "name": "stdout",
          "text": [
            "[4, 5, 6, 7, 8, 9, 14]\n"
          ]
        }
      ]
    },
    {
      "cell_type": "code",
      "metadata": {
        "colab": {
          "base_uri": "https://localhost:8080/"
        },
        "id": "hQnMkpR9l9rG",
        "outputId": "b3866315-fe6e-4c44-aeed-dd4f679bd8c6"
      },
      "source": [
        "e_list = []\n",
        "\n",
        "\n",
        "elist = int(input(\"Enter number of elements: \"))\n",
        "for i in range(0, elist): #looping through the numbers that will be inputed by the user\n",
        "  #if len(e_list) >= 4:\n",
        "    #print(\"Greatv job\")\n",
        "    i = int(input()) \n",
        "    e_list.append(i) #\n",
        "   \n",
        "\n",
        "  #else:\n",
        "     #print(\"No more entry for you\") - struggling with the conditional statement so commented it out so that the code could run with regards to the other questions\n",
        "\n",
        "print(e_list) \n",
        "\n",
        "n = 2\n",
        "largest(e_list, n)\n",
        "small(e_list, n)\n",
        "print(e_list)\n",
        "\n",
        "\n"
      ],
      "execution_count": 51,
      "outputs": [
        {
          "output_type": "stream",
          "name": "stdout",
          "text": [
            "Enter number of elements: 10\n",
            "1\n",
            "2\n",
            "3\n",
            "4\n",
            "5\n",
            "6\n",
            "7\n",
            "8\n",
            "9\n",
            "10\n",
            "[1, 2, 3, 4, 5, 6, 7, 8, 9, 10]\n",
            "[3, 4, 5, 6, 7, 8]\n"
          ]
        }
      ]
    }
  ]
}